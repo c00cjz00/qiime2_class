{
 "cells": [
  {
   "cell_type": "code",
   "execution_count": 2,
   "id": "03c6454d-1d7b-46e2-8d45-a1e36696c027",
   "metadata": {},
   "outputs": [],
   "source": [
    "# 此映像檔套件位置\n",
    "import os, sys, sysconfig\n",
    "site_packages_path=(sysconfig.get_paths()[\"purelib\"])\n",
    "dirname=os.path.dirname(site_packages_path)\n",
    "python_basename=os.path.basename(dirname)\n",
    "# 更換PIP安裝位置\n",
    "if \"SINGULARITY_NAME\" in os.environ:\n",
    "  #kernel_name = os.path.basename(sys.executable.replace(\"/bin/python\",\"\"))\n",
    "  kernel_name = os.environ['SINGULARITY_NAME']\n",
    "  #os.environ['PYTHONUSERBASE']=os.environ['HOME']+'/.slurm_jupyter/pip_'+kernel_name\n",
    "  os.environ['PYTHONUSERBASE']='/work/'+os.path.basename(os.environ['HOME'])+'/my_container/.package_'+kernel_name+'/envs/'+kernel_name\n",
    "# 新增 Binarry 位置\n",
    "Add_Binarry_Path=os.environ['PYTHONUSERBASE']+'/bin'\n",
    "os.environ['PATH']=Add_Binarry_Path+\":\"+os.environ['PATH']\n",
    "# 更換library位置\n",
    "sys_path_add=os.environ['PYTHONUSERBASE']+'/lib/'+python_basename+'/site-packages'\n",
    "if sys_path_add in sys.path:\n",
    "  print(\"not add\")\n",
    "else:\n",
    "  sys.path.insert(0, sys_path_add)\n",
    "# 更換排序\n",
    "sys.path = sorted(sys.path, key=lambda x: x.startswith(site_packages_path), reverse=True)\n",
    "sys.path = sorted(sys.path, key=lambda x: x.startswith(sys_path_add), reverse=True)\n",
    "\n",
    "os.environ['XDG_CONFIG_HOME']=os.environ['HOME']\n",
    "# 印出結果\n",
    "#print(os.environ['PYTHONUSERBASE'])\n",
    "#print(os.environ['PATH'])\n",
    "#print(sys.path)"
   ]
  },
  {
   "cell_type": "markdown",
   "id": "d1a26104-91c3-4397-9a5d-01f85bcf4427",
   "metadata": {},
   "source": [
    "### 利用細菌 16S rRNA 基因 V3− V4 區域通用引子對 341F (CCTACGGGAGGCAGCAG)/805R (GACTACHVGGGTATCTAATCC) 進行增幅反應\n",
    "1. 805-341=464\n",
    "2. !zgrep '^CCTACGGG.GGC.GCAG' SRR6498087_S1_L001_R1_001.fastq.gz | wc -l\n",
    "3. !zgrep '^GACTAC..GGGTATCTAATCC' SRR6498087_S1_L001_R2_001.fastq.gz | wc -l\n"
   ]
  },
  {
   "cell_type": "code",
   "execution_count": 3,
   "id": "017338ef-ca5e-4e2f-b047-66b99e42b249",
   "metadata": {},
   "outputs": [
    {
     "name": "stdout",
     "output_type": "stream",
     "text": [
      "/home/c00cjz00wsi/class/qiime2/output\n",
      "\u001b[32mSaved SampleData[PairedEndSequencesWithQuality] to: demux-cutadpter.qza\u001b[0m\n",
      "\u001b[0m"
     ]
    }
   ],
   "source": [
    "%cd ~/class/qiime2/output\n",
    "!qiime cutadapt trim-paired \\\n",
    "--i-demultiplexed-sequences demux.qza \\\n",
    "--p-front-f CCTACGGGNGGCWGCAG \\\n",
    "--p-front-r GACTACHVGGGTATCTAATCC \\\n",
    "--p-match-adapter-wildcards \\\n",
    "--p-match-read-wildcards \\\n",
    "--p-discard-untrimmed \\\n",
    "--o-trimmed-sequences demux-cutadpter.qza"
   ]
  },
  {
   "cell_type": "code",
   "execution_count": 4,
   "id": "1e5f2bbd-61f7-472b-b4ee-ecab73c145c1",
   "metadata": {},
   "outputs": [
    {
     "name": "stdout",
     "output_type": "stream",
     "text": [
      "/home/c00cjz00wsi/class/qiime2/output\n",
      "\u001b[32mSaved Visualization to: demux-cutadpter.qzv\u001b[0m\n",
      "\u001b[0m"
     ]
    }
   ],
   "source": [
    "%cd ~/class/qiime2/output\n",
    "!qiime demux summarize \\\n",
    "--i-data demux-cutadpter.qza  \\\n",
    "--o-visualization demux-cutadpter.qzv"
   ]
  },
  {
   "cell_type": "code",
   "execution_count": 7,
   "id": "34873899-78af-4657-bdd7-cd111d32baf7",
   "metadata": {},
   "outputs": [
    {
     "name": "stdout",
     "output_type": "stream",
     "text": [
      "/home/c00cjz00wsi/class/qiime2/output\n",
      "\u001b[32mSaved FeatureTable[Frequency] to: table-dada2_cutadpter_00_228212.qza\u001b[0m\n",
      "\u001b[32mSaved FeatureData[Sequence] to: rep-seqs-dada2_cutadpter_00_228212.qza\u001b[0m\n",
      "\u001b[32mSaved SampleData[DADA2Stats] to: stats-dada2_cutadpter_00_228212.qza\u001b[0m\n",
      "\u001b[0m"
     ]
    }
   ],
   "source": [
    "%cd ~/class/qiime2/output\n",
    "!qiime dada2 denoise-paired \\\n",
    "  --i-demultiplexed-seqs demux-cutadpter.qza \\\n",
    "  --p-trim-left-f 0 \\\n",
    "  --p-trim-left-r 0 \\\n",
    "  --p-trunc-len-f 228 \\\n",
    "  --p-trunc-len-r 212 \\\n",
    "  --o-table table-dada2_cutadpter_00_228212.qza \\\n",
    "  --o-representative-sequences rep-seqs-dada2_cutadpter_00_228212.qza \\\n",
    "  --o-denoising-stats stats-dada2_cutadpter_00_228212.qza \\\n",
    "  --p-n-threads 0"
   ]
  },
  {
   "cell_type": "code",
   "execution_count": 8,
   "id": "3a92096d-779c-46ee-9d6d-40aa35db7dc2",
   "metadata": {},
   "outputs": [
    {
     "name": "stdout",
     "output_type": "stream",
     "text": [
      "/home/c00cjz00wsi/class/qiime2/output\n",
      "\u001b[32mSaved Visualization to: table-dada2_cutadpter_00_228212.qzv\u001b[0m\n",
      "\u001b[0m\u001b[32mSaved Visualization to: rep-seqs-dada2_cutadpter_00_228212.qzv\u001b[0m\n",
      "\u001b[0m\u001b[32mSaved Visualization to: stats-dada2_cutadpter_00_228212.qzv\u001b[0m\n",
      "\u001b[0m"
     ]
    }
   ],
   "source": [
    "%cd ~/class/qiime2/output\n",
    "!qiime feature-table summarize \\\n",
    "  --i-table table-dada2_cutadpter_00_228212.qza \\\n",
    "  --o-visualization table-dada2_cutadpter_00_228212.qzv \\\n",
    "  --m-sample-metadata-file ../fastq/sample-metadata.tsv\n",
    "!qiime feature-table tabulate-seqs \\\n",
    "  --i-data rep-seqs-dada2_cutadpter_00_228212.qza \\\n",
    "  --o-visualization rep-seqs-dada2_cutadpter_00_228212.qzv\n",
    "!qiime metadata tabulate \\\n",
    "  --m-input-file stats-dada2_cutadpter_00_228212.qza \\\n",
    "  --o-visualization stats-dada2_cutadpter_00_228212.qzv"
   ]
  },
  {
   "cell_type": "code",
   "execution_count": 9,
   "id": "37ead03e-566f-468b-977d-2081a42f762d",
   "metadata": {},
   "outputs": [
    {
     "name": "stdout",
     "output_type": "stream",
     "text": [
      "/home/c00cjz00wsi/class/qiime2/output\n",
      "\u001b[32mSaved FeatureTable[Frequency] to: table-dada2_cutadpter_00_225215.qza\u001b[0m\n",
      "\u001b[32mSaved FeatureData[Sequence] to: rep-seqs-dada2_cutadpter_00_225215.qza\u001b[0m\n",
      "\u001b[32mSaved SampleData[DADA2Stats] to: stats-dada2_cutadpter_00_225215.qza\u001b[0m\n",
      "\u001b[0m"
     ]
    }
   ],
   "source": [
    "%cd ~/class/qiime2/output\n",
    "!qiime dada2 denoise-paired \\\n",
    "  --i-demultiplexed-seqs demux-cutadpter.qza \\\n",
    "  --p-trim-left-f 0 \\\n",
    "  --p-trim-left-r 0 \\\n",
    "  --p-trunc-len-f 225 \\\n",
    "  --p-trunc-len-r 215 \\\n",
    "  --o-table table-dada2_cutadpter_00_225215.qza \\\n",
    "  --o-representative-sequences rep-seqs-dada2_cutadpter_00_225215.qza \\\n",
    "  --o-denoising-stats stats-dada2_cutadpter_00_225215.qza \\\n",
    "  --p-n-threads 0"
   ]
  },
  {
   "cell_type": "code",
   "execution_count": 10,
   "id": "cc4c1839-ec22-4f63-bbb4-a3d5fef34773",
   "metadata": {},
   "outputs": [
    {
     "name": "stdout",
     "output_type": "stream",
     "text": [
      "/home/c00cjz00wsi/class/qiime2/output\n",
      "\u001b[32mSaved Visualization to: table-dada2_cutadpter_00_225215.qzv\u001b[0m\n",
      "\u001b[0m\u001b[32mSaved Visualization to: rep-seqs-dada2_cutadpter_00_225215.qzv\u001b[0m\n",
      "\u001b[0m\u001b[32mSaved Visualization to: stats-dada2_cutadpter_00_225215.qzv\u001b[0m\n",
      "\u001b[0m"
     ]
    }
   ],
   "source": [
    "%cd ~/class/qiime2/output\n",
    "!qiime feature-table summarize \\\n",
    "  --i-table table-dada2_cutadpter_00_225215.qza \\\n",
    "  --o-visualization table-dada2_cutadpter_00_225215.qzv \\\n",
    "  --m-sample-metadata-file ../fastq/sample-metadata.tsv\n",
    "!qiime feature-table tabulate-seqs \\\n",
    "  --i-data rep-seqs-dada2_cutadpter_00_225215.qza \\\n",
    "  --o-visualization rep-seqs-dada2_cutadpter_00_225215.qzv\n",
    "!qiime metadata tabulate \\\n",
    "  --m-input-file stats-dada2_cutadpter_00_225215.qza \\\n",
    "  --o-visualization stats-dada2_cutadpter_00_225215.qzv"
   ]
  },
  {
   "cell_type": "code",
   "execution_count": 11,
   "id": "9a3c0b2a-6ef0-4be5-98c1-237a0220a788",
   "metadata": {},
   "outputs": [
    {
     "name": "stdout",
     "output_type": "stream",
     "text": [
      "/home/c00cjz00wsi/class/qiime2/output\n",
      "\u001b[32mSaved FeatureTable[Frequency] to: table-dada2_cutadpter_00_226215.qza\u001b[0m\n",
      "\u001b[32mSaved FeatureData[Sequence] to: rep-seqs-dada2_cutadpter_00_226215.qza\u001b[0m\n",
      "\u001b[32mSaved SampleData[DADA2Stats] to: stats-dada2_cutadpter_00_226215.qza\u001b[0m\n",
      "\u001b[0m"
     ]
    }
   ],
   "source": [
    "%cd ~/class/qiime2/output\n",
    "!qiime dada2 denoise-paired \\\n",
    "  --i-demultiplexed-seqs demux-cutadpter.qza \\\n",
    "  --p-trim-left-f 0 \\\n",
    "  --p-trim-left-r 0 \\\n",
    "  --p-trunc-len-f 226 \\\n",
    "  --p-trunc-len-r 215 \\\n",
    "  --o-table table-dada2_cutadpter_00_226215.qza \\\n",
    "  --o-representative-sequences rep-seqs-dada2_cutadpter_00_226215.qza \\\n",
    "  --o-denoising-stats stats-dada2_cutadpter_00_226215.qza \\\n",
    "  --p-n-threads 0"
   ]
  },
  {
   "cell_type": "code",
   "execution_count": 12,
   "id": "63d6497d-605c-41af-9fd9-9ebbf45f8739",
   "metadata": {},
   "outputs": [
    {
     "name": "stdout",
     "output_type": "stream",
     "text": [
      "/home/c00cjz00wsi/class/qiime2/output\n",
      "\u001b[32mSaved Visualization to: table-dada2_cutadpter_00_226215.qzv\u001b[0m\n",
      "\u001b[0m\u001b[32mSaved Visualization to: rep-seqs-dada2_cutadpter_00_226215.qzv\u001b[0m\n",
      "\u001b[0m\u001b[32mSaved Visualization to: stats-dada2_cutadpter_00_226215.qzv\u001b[0m\n",
      "\u001b[0m"
     ]
    }
   ],
   "source": [
    "%cd ~/class/qiime2/output\n",
    "!qiime feature-table summarize \\\n",
    "  --i-table table-dada2_cutadpter_00_226215.qza \\\n",
    "  --o-visualization table-dada2_cutadpter_00_226215.qzv \\\n",
    "  --m-sample-metadata-file ../fastq/sample-metadata.tsv\n",
    "!qiime feature-table tabulate-seqs \\\n",
    "  --i-data rep-seqs-dada2_cutadpter_00_226215.qza \\\n",
    "  --o-visualization rep-seqs-dada2_cutadpter_00_226215.qzv\n",
    "!qiime metadata tabulate \\\n",
    "  --m-input-file stats-dada2_cutadpter_00_226215.qza \\\n",
    "  --o-visualization stats-dada2_cutadpter_00_226215.qzv"
   ]
  },
  {
   "cell_type": "code",
   "execution_count": 13,
   "id": "57125df7-14b3-468f-bbaa-e51d79307b91",
   "metadata": {},
   "outputs": [
    {
     "name": "stdout",
     "output_type": "stream",
     "text": [
      "/home/c00cjz00wsi/class/qiime2/output\n",
      "\u001b[32mSaved FeatureTable[Frequency] to: table-dada2_cutadpter_00_225219.qza\u001b[0m\n",
      "\u001b[32mSaved FeatureData[Sequence] to: rep-seqs-dada2_cutadpter_00_225219.qza\u001b[0m\n",
      "\u001b[32mSaved SampleData[DADA2Stats] to: stats-dada2_cutadpter_00_225219.qza\u001b[0m\n",
      "\u001b[0m"
     ]
    }
   ],
   "source": [
    "%cd ~/class/qiime2/output\n",
    "!qiime dada2 denoise-paired \\\n",
    "  --i-demultiplexed-seqs demux-cutadpter.qza \\\n",
    "  --p-trim-left-f 0 \\\n",
    "  --p-trim-left-r 0 \\\n",
    "  --p-trunc-len-f 225 \\\n",
    "  --p-trunc-len-r 219 \\\n",
    "  --o-table table-dada2_cutadpter_00_225219.qza \\\n",
    "  --o-representative-sequences rep-seqs-dada2_cutadpter_00_225219.qza \\\n",
    "  --o-denoising-stats stats-dada2_cutadpter_00_225219.qza \\\n",
    "  --p-n-threads 0"
   ]
  },
  {
   "cell_type": "code",
   "execution_count": 14,
   "id": "d1d651f4-b2e1-4483-aa62-086972f229ed",
   "metadata": {},
   "outputs": [
    {
     "name": "stdout",
     "output_type": "stream",
     "text": [
      "/home/c00cjz00wsi/class/qiime2/output\n",
      "\u001b[32mSaved Visualization to: table-dada2_cutadpter_00_225219.qzv\u001b[0m\n",
      "\u001b[0m\u001b[32mSaved Visualization to: rep-seqs-dada2_cutadpter_00_225219.qzv\u001b[0m\n",
      "\u001b[0m\u001b[32mSaved Visualization to: stats-dada2_cutadpter_00_225219.qzv\u001b[0m\n",
      "\u001b[0m"
     ]
    }
   ],
   "source": [
    "%cd ~/class/qiime2/output\n",
    "!qiime feature-table summarize \\\n",
    "  --i-table table-dada2_cutadpter_00_225219.qza \\\n",
    "  --o-visualization table-dada2_cutadpter_00_225219.qzv \\\n",
    "  --m-sample-metadata-file ../fastq/sample-metadata.tsv\n",
    "!qiime feature-table tabulate-seqs \\\n",
    "  --i-data rep-seqs-dada2_cutadpter_00_225219.qza \\\n",
    "  --o-visualization rep-seqs-dada2_cutadpter_00_225219.qzv\n",
    "!qiime metadata tabulate \\\n",
    "  --m-input-file stats-dada2_cutadpter_00_225219.qza \\\n",
    "  --o-visualization stats-dada2_cutadpter_00_225219.qzv"
   ]
  },
  {
   "cell_type": "code",
   "execution_count": null,
   "id": "37c0696c-4812-46d4-bf18-8dc4ee5d3558",
   "metadata": {},
   "outputs": [],
   "source": []
  }
 ],
 "metadata": {
  "kernelspec": {
   "display_name": "Image_qiime2_2023.2",
   "language": "python",
   "name": "image_qiime2_2023.2"
  },
  "language_info": {
   "codemirror_mode": {
    "name": "ipython",
    "version": 3
   },
   "file_extension": ".py",
   "mimetype": "text/x-python",
   "name": "python",
   "nbconvert_exporter": "python",
   "pygments_lexer": "ipython3",
   "version": "3.8.15"
  }
 },
 "nbformat": 4,
 "nbformat_minor": 5
}
