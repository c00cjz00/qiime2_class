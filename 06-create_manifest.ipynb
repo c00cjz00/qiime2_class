{
 "cells": [
  {
   "cell_type": "code",
   "execution_count": null,
   "id": "90b9b5be-2bff-411f-abd3-8ae75a3cf0aa",
   "metadata": {},
   "outputs": [],
   "source": [
    "%%bash\n",
    "fastq_folder=\"$HOME/class/qiime2/fastq\"\n",
    "cd ${fastq_folder}\n",
    "manifest=\"manifest.tsv\"\n",
    "echo \"sample-id\tforward-absolute-filepath\treverse-absolute-filepath\" > ${manifest}\n",
    "find ${fastq_folder} |grep R1_001.fastq.gz$| while read file\n",
    "do\n",
    "    filename=$(basename \"$file\")\n",
    "    echo $filename |awk -F \"_S1_L001_R1_001\" '{print \t$1\"\t$PWD/\"$_\"\t$PWD/\"$1\"_S1_L001_R2_001.fastq.gz\"}' >> ${manifest}  \n",
    "done"
   ]
  },
  {
   "cell_type": "code",
   "execution_count": null,
   "id": "4046c1ee-64f4-40ef-b593-6a2033108b1d",
   "metadata": {},
   "outputs": [],
   "source": []
  }
 ],
 "metadata": {
  "kernelspec": {
   "display_name": "SRA_toolkit",
   "language": "python",
   "name": "conda_sra_toolkit"
  },
  "language_info": {
   "codemirror_mode": {
    "name": "ipython",
    "version": 3
   },
   "file_extension": ".py",
   "mimetype": "text/x-python",
   "name": "python",
   "nbconvert_exporter": "python",
   "pygments_lexer": "ipython3",
   "version": "3.8.16"
  }
 },
 "nbformat": 4,
 "nbformat_minor": 5
}
