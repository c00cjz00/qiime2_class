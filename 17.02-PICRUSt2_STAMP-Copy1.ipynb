{
 "cells": [
  {
   "cell_type": "code",
   "execution_count": 24,
   "id": "a4d7389c-c1a9-49bf-a469-d75dd2e893d7",
   "metadata": {},
   "outputs": [
    {
     "name": "stdout",
     "output_type": "stream",
     "text": [
      "/work/c00cjz00wsi/my_container/.package_p2/envs/p2\n",
      "/work/c00cjz00wsi/my_container/.package_p2/envs/p2/bin:/work/c00cjz00wsi/my_container/.package_p2/envs/p2/bin:/work/c00cjz002/share/miniconda3_py38/bin:/work/c00cjz002/share/miniconda3_py38/condabin:/usr/lib64/qt-3.3/bin:/usr/local/bin:/usr/bin:/home/c00cjz00wsi/.dotnet/tools:/opt/ibutils/bin:/opt/thinlinc/bin:/home/c00cjz00wsi/.slurm_jupyter/pip/bin\n",
      "['/work/c00cjz00wsi/my_container/.package_p2/envs/p2/lib/python3.8/site-packages', '/home/c00cjz00wsi/00-course/qiime2', '/work/c00cjz00wsi/my_container/.package_p2/envs/p2/lib/python38.zip', '/work/c00cjz00wsi/my_container/.package_p2/envs/p2/lib/python3.8', '/work/c00cjz00wsi/my_container/.package_p2/envs/p2/lib/python3.8/lib-dynload']\n"
     ]
    }
   ],
   "source": [
    "# LIBRARY\n",
    "import os, sys, sysconfig\n",
    "# 套件讀取位置\n",
    "site_packages_path=(sysconfig.get_paths()[\"purelib\"])\n",
    "# 新增 PATH 位置\n",
    "BIN_PATH=os.path.dirname(sys.executable)\n",
    "os.environ['PYTHONUSERBASE']=os.path.dirname(BIN_PATH)\n",
    "os.environ['PATH']=BIN_PATH+\":\"+os.environ['PATH']\n",
    "# 更換套件讀取排序\n",
    "sys.path = sorted(sys.path, key=lambda x: x.startswith(site_packages_path), reverse=True)\n",
    "# Alias command\n",
    "%alias mamba mamba\n",
    "\n",
    "# 印出結果\n",
    "print(os.environ['PYTHONUSERBASE'])\n",
    "print(os.environ['PATH'])\n",
    "print(sys.path)"
   ]
  },
  {
   "cell_type": "markdown",
   "id": "71e3f01d-c466-436c-9741-6a37c374f3c8",
   "metadata": {},
   "source": [
    "### 安裝與啟動 mamba 及 PICRUSt2 (v2.5.0)"
   ]
  },
  {
   "cell_type": "code",
   "execution_count": 26,
   "id": "46362c45-c3a9-419f-bb91-b1fc31698ca2",
   "metadata": {},
   "outputs": [
    {
     "name": "stdout",
     "output_type": "stream",
     "text": [
      "\n",
      "                  __    __    __    __\n",
      "                 /  \\  /  \\  /  \\  /  \\\n",
      "                /    \\/    \\/    \\/    \\\n",
      "███████████████/  /██/  /██/  /██/  /████████████████████████\n",
      "              /  / \\   / \\   / \\   / \\  \\____\n",
      "             /  /   \\_/   \\_/   \\_/   \\    o \\__,\n",
      "            / _/                       \\_____/  `\n",
      "            |/\n",
      "        ███╗   ███╗ █████╗ ███╗   ███╗██████╗  █████╗\n",
      "        ████╗ ████║██╔══██╗████╗ ████║██╔══██╗██╔══██╗\n",
      "        ██╔████╔██║███████║██╔████╔██║██████╔╝███████║\n",
      "        ██║╚██╔╝██║██╔══██║██║╚██╔╝██║██╔══██╗██╔══██║\n",
      "        ██║ ╚═╝ ██║██║  ██║██║ ╚═╝ ██║██████╔╝██║  ██║\n",
      "        ╚═╝     ╚═╝╚═╝  ╚═╝╚═╝     ╚═╝╚═════╝ ╚═╝  ╚═╝\n",
      "\n",
      "        mamba (1.1.0) supported by @QuantStack\n",
      "\n",
      "        GitHub:  https://github.com/mamba-org/mamba\n",
      "        Twitter: https://twitter.com/QuantStack\n",
      "\n",
      "█████████████████████████████████████████████████████████████\n",
      "\n",
      "\n",
      "Looking for: ['picrust2=2.5.1']\n",
      "\n",
      "\u001b[?25l\u001b[2K\u001b[0G[+] 0.0s\n",
      "\u001b[2K\u001b[1A\u001b[2K\u001b[0G[+] 0.1s\n",
      "bioconda/linux-64    \u001b[90m━━━━━━━━╸\u001b[0m\u001b[33m━━━━━━━━━━━━━━\u001b[0m   0.0 B /  ??.?MB @  ??.?MB/s  0.1s\n",
      "bioconda/noarch      \u001b[90m━━━━━━━━━━╸\u001b[0m\u001b[33m━━━━━━━━━━━━\u001b[0m   0.0 B /  ??.?MB @  ??.?MB/s  0.1s\n",
      "conda-forge/linux-64 \u001b[90m━━━━━━━╸\u001b[0m\u001b[33m━━━━━━━━━━━━━━━\u001b[0m   0.0 B /  ??.?MB @  ??.?MB/s  0.1s\n",
      "conda-forge/noarch   \u001b[90m━━━━━╸\u001b[0m\u001b[33m━━━━━━━━━━━━━━━╸\u001b[0m\u001b[90m━\u001b[0m   0.0 B /  ??.?MB @  ??.?MB/s  0.1s\n",
      "r/linux-64           \u001b[90m━━━━╸\u001b[0m\u001b[33m━━━━━━━━━━━━━━━╸\u001b[0m\u001b[90m━━\u001b[0m   0.0 B /  ??.?MB @  ??.?MB/s  0.1s\u001b[2K\u001b[1A\u001b[2K\u001b[1A\u001b[2K\u001b[1A\u001b[2K\u001b[1A\u001b[2K\u001b[1A\u001b[2K\u001b[0Gbioconda/linux-64                                             No change\n",
      "r/linux-64                                                    No change\n",
      "r/noarch                                                      No change\n",
      "[+] 0.2s\n",
      "bioconda/noarch      \u001b[90m━━━━━━━━━━━━╸\u001b[0m\u001b[33m━━━━━━━━━━\u001b[0m   0.0 B /  ??.?MB @  ??.?MB/s  0.2s\n",
      "conda-forge/linux-64 \u001b[90m━━━━━━━━━╸\u001b[0m\u001b[33m━━━━━━━━━━━━━\u001b[0m 154.0kB /  ??.?MB @ 888.9kB/s  0.2s\n",
      "conda-forge/noarch   \u001b[90m━━━━━━━╸\u001b[0m\u001b[33m━━━━━━━━━━━━━━━\u001b[0m 150.4kB /  ??.?MB @ 806.9kB/s  0.2s\n",
      "pkgs/main/noarch     \u001b[90m━━━━━━━━━━━╸\u001b[0m\u001b[33m━━━━━━━━━━━\u001b[0m   0.0 B /  ??.?MB @  ??.?MB/s  0.0s\n",
      "pkgs/r/linux-64      \u001b[90m╸\u001b[0m\u001b[33m━━━━━━━━━━━━━━━╸\u001b[0m\u001b[90m━━━━━━\u001b[0m   0.0 B /  ??.?MB @  ??.?MB/s  0.0s\u001b[2K\u001b[1A\u001b[2K\u001b[1A\u001b[2K\u001b[1A\u001b[2K\u001b[1A\u001b[2K\u001b[1A\u001b[2K\u001b[0Gpkgs/r/linux-64                                               No change\n",
      "pkgs/main/noarch                                              No change\n",
      "pkgs/r/noarch                                                 No change\n",
      "pkgs/main/linux-64                                            No change\n",
      "[+] 0.3s\n",
      "bioconda/noarch      \u001b[33m━━━━━━━━╸\u001b[0m\u001b[90m━━━━━━━━━━━━━━\u001b[0m   0.0 B /  ??.?MB @  ??.?MB/s  0.3s\n",
      "conda-forge/linux-64 \u001b[90m━━━━━━━━━━━╸\u001b[0m\u001b[33m━━━━━━━━━━━\u001b[0m 758.0kB /  ??.?MB @   2.8MB/s  0.3s\n",
      "conda-forge/noarch   \u001b[90m━━━━━━━━━╸\u001b[0m\u001b[33m━━━━━━━━━━━━━\u001b[0m 857.9kB /  ??.?MB @   3.0MB/s  0.3s\u001b[2K\u001b[1A\u001b[2K\u001b[1A\u001b[2K\u001b[1A\u001b[2K\u001b[0G[+] 0.4s\n",
      "bioconda/noarch      \u001b[33m━━━━━━━━━━━╸\u001b[0m\u001b[90m━━━━━━━━━━━\u001b[0m   0.0 B /  ??.?MB @  ??.?MB/s  0.4s\n",
      "conda-forge/linux-64 \u001b[33m━━━━━━━╸\u001b[0m\u001b[90m━━━━━━━━━━━━━━━\u001b[0m   1.3MB /  ??.?MB @   3.5MB/s  0.4s\n",
      "conda-forge/noarch   \u001b[90m━━━━━━━━━━━╸\u001b[0m\u001b[33m━━━━━━━━━━━\u001b[0m   1.5MB /  ??.?MB @   3.8MB/s  0.4s\u001b[2K\u001b[1A\u001b[2K\u001b[1A\u001b[2K\u001b[1A\u001b[2K\u001b[0G[+] 0.5s\n",
      "bioconda/noarch      \u001b[33m━━━━━━━━━━━━━╸\u001b[0m\u001b[90m━━━━━━━━━\u001b[0m  84.3kB /  ??.?MB @ 184.0kB/s  0.5s\n",
      "conda-forge/linux-64 \u001b[33m━━━━━━━━━━╸\u001b[0m\u001b[90m━━━━━━━━━━━━\u001b[0m   1.9MB /  ??.?MB @   4.1MB/s  0.5s\n",
      "conda-forge/noarch   \u001b[33m━━━━━━━╸\u001b[0m\u001b[90m━━━━━━━━━━━━━━━\u001b[0m   2.1MB /  ??.?MB @   4.3MB/s  0.5s\u001b[2K\u001b[1A\u001b[2K\u001b[1A\u001b[2K\u001b[1A\u001b[2K\u001b[0G[+] 0.6s\n",
      "bioconda/noarch      \u001b[33m━━━━━━━━━━━━━━━╸\u001b[0m\u001b[90m━━━━━━━\u001b[0m 188.9kB /  ??.?MB @ 337.8kB/s  0.6s\n",
      "conda-forge/linux-64 \u001b[33m━━━━━━━━━━━━╸\u001b[0m\u001b[90m━━━━━━━━━━\u001b[0m   2.5MB /  ??.?MB @   4.3MB/s  0.6s\n",
      "conda-forge/noarch   \u001b[33m━━━━━━━━━━╸\u001b[0m\u001b[90m━━━━━━━━━━━━\u001b[0m   2.6MB /  ??.?MB @   4.5MB/s  0.6s\u001b[2K\u001b[1A\u001b[2K\u001b[1A\u001b[2K\u001b[1A\u001b[2K\u001b[0G[+] 0.7s\n",
      "bioconda/noarch      \u001b[90m━╸\u001b[0m\u001b[33m━━━━━━━━━━━━━━━╸\u001b[0m\u001b[90m━━━━━\u001b[0m 289.4kB /  ??.?MB @ 438.7kB/s  0.7s\n",
      "conda-forge/linux-64 \u001b[33m━━━━━━━━━━━━━━╸\u001b[0m\u001b[90m━━━━━━━━\u001b[0m   3.1MB /  ??.?MB @   4.6MB/s  0.7s\n",
      "conda-forge/noarch   \u001b[33m━━━━━━━━━━━━╸\u001b[0m\u001b[90m━━━━━━━━━━\u001b[0m   3.2MB /  ??.?MB @   4.7MB/s  0.7s\u001b[2K\u001b[1A\u001b[2K\u001b[1A\u001b[2K\u001b[1A\u001b[2K\u001b[0G[+] 0.8s\n",
      "bioconda/noarch      \u001b[90m━━━╸\u001b[0m\u001b[33m━━━━━━━━━━━━━━━╸\u001b[0m\u001b[90m━━━\u001b[0m 387.8kB /  ??.?MB @ 510.3kB/s  0.8s\n",
      "conda-forge/linux-64 \u001b[90m╸\u001b[0m\u001b[33m━━━━━━━━━━━━━━━╸\u001b[0m\u001b[90m━━━━━━\u001b[0m   3.6MB /  ??.?MB @   4.7MB/s  0.8s\n",
      "conda-forge/noarch   \u001b[33m━━━━━━━━━━━━━━╸\u001b[0m\u001b[90m━━━━━━━━\u001b[0m   3.8MB /  ??.?MB @   4.8MB/s  0.8s\u001b[2K\u001b[1A\u001b[2K\u001b[1A\u001b[2K\u001b[1A\u001b[2K\u001b[0G[+] 0.9s\n",
      "bioconda/noarch      \u001b[90m━━━━━━╸\u001b[0m\u001b[33m━━━━━━━━━━━━━━━━\u001b[0m 507.2kB /  ??.?MB @ 589.5kB/s  0.9s\n",
      "conda-forge/linux-64 \u001b[90m━━╸\u001b[0m\u001b[33m━━━━━━━━━━━━━━━╸\u001b[0m\u001b[90m━━━━\u001b[0m   4.3MB /  ??.?MB @   4.9MB/s  0.9s\n",
      "conda-forge/noarch   \u001b[90m╸\u001b[0m\u001b[33m━━━━━━━━━━━━━━━╸\u001b[0m\u001b[90m━━━━━━\u001b[0m   4.4MB /  ??.?MB @   4.9MB/s  0.9s\u001b[2K\u001b[1A\u001b[2K\u001b[1A\u001b[2K\u001b[1A\u001b[2K\u001b[0G[+] 1.0s\n",
      "bioconda/noarch      \u001b[90m━━━━━━━━╸\u001b[0m\u001b[33m━━━━━━━━━━━━━━\u001b[0m 816.4kB /  ??.?MB @ 849.6kB/s  1.0s\n",
      "conda-forge/linux-64 \u001b[90m━━━━━╸\u001b[0m\u001b[33m━━━━━━━━━━━━━━━╸\u001b[0m\u001b[90m━\u001b[0m   4.8MB /  ??.?MB @   4.9MB/s  1.0s\n",
      "conda-forge/noarch   \u001b[90m━━╸\u001b[0m\u001b[33m━━━━━━━━━━━━━━━╸\u001b[0m\u001b[90m━━━━\u001b[0m   4.9MB /  ??.?MB @   5.0MB/s  1.0s\u001b[2K\u001b[1A\u001b[2K\u001b[1A\u001b[2K\u001b[1A\u001b[2K\u001b[0G[+] 1.1s\n",
      "bioconda/noarch      \u001b[90m━━━━━━━━━━╸\u001b[0m\u001b[33m━━━━━━━━━━━━\u001b[0m   1.1MB /  ??.?MB @   1.0MB/s  1.1s\n",
      "conda-forge/linux-64 \u001b[90m━━━━━━━╸\u001b[0m\u001b[33m━━━━━━━━━━━━━━━\u001b[0m   5.4MB /  ??.?MB @   5.0MB/s  1.1s\n",
      "conda-forge/noarch   \u001b[90m━━━━━╸\u001b[0m\u001b[33m━━━━━━━━━━━━━━━╸\u001b[0m\u001b[90m━\u001b[0m   5.5MB /  ??.?MB @   5.0MB/s  1.1s\u001b[2K\u001b[1A\u001b[2K\u001b[1A\u001b[2K\u001b[1A\u001b[2K\u001b[0G[+] 1.2s\n",
      "bioconda/noarch      \u001b[90m━━━━━━━━━━━━╸\u001b[0m\u001b[33m━━━━━━━━━━\u001b[0m   1.4MB /  ??.?MB @   1.2MB/s  1.2s\n",
      "conda-forge/linux-64 \u001b[90m━━━━━━━━━╸\u001b[0m\u001b[33m━━━━━━━━━━━━━\u001b[0m   5.9MB /  ??.?MB @   5.0MB/s  1.2s\n",
      "conda-forge/noarch   \u001b[90m━━━━━━━╸\u001b[0m\u001b[33m━━━━━━━━━━━━━━━\u001b[0m   6.0MB /  ??.?MB @   5.1MB/s  1.2s\u001b[2K\u001b[1A\u001b[2K\u001b[1A\u001b[2K\u001b[1A\u001b[2K\u001b[0G[+] 1.3s\n",
      "bioconda/noarch      \u001b[33m━━━━━━━━╸\u001b[0m\u001b[90m━━━━━━━━━━━━━━\u001b[0m   2.0MB /  ??.?MB @   1.6MB/s  1.3s\n",
      "conda-forge/linux-64 \u001b[90m━━━━━━━━━━━╸\u001b[0m\u001b[33m━━━━━━━━━━━\u001b[0m   6.5MB /  ??.?MB @   5.1MB/s  1.3s\n",
      "conda-forge/noarch   \u001b[90m━━━━━━━━━╸\u001b[0m\u001b[33m━━━━━━━━━━━━━\u001b[0m   6.6MB /  ??.?MB @   5.1MB/s  1.3s\u001b[2K\u001b[1A\u001b[2K\u001b[1A\u001b[2K\u001b[1A\u001b[2K\u001b[0G[+] 1.4s\n",
      "bioconda/noarch      \u001b[33m━━━━━━━━━━━╸\u001b[0m\u001b[90m━━━━━━━━━━━\u001b[0m   2.5MB /  ??.?MB @   1.9MB/s  1.4s\n",
      "conda-forge/linux-64 \u001b[33m━━━━━━━╸\u001b[0m\u001b[90m━━━━━━━━━━━━━━━\u001b[0m   7.1MB /  ??.?MB @   5.1MB/s  1.4s\n",
      "conda-forge/noarch   \u001b[90m━━━━━━━━━━━╸\u001b[0m\u001b[33m━━━━━━━━━━━\u001b[0m   7.1MB /  ??.?MB @   5.1MB/s  1.4s\u001b[2K\u001b[1A\u001b[2K\u001b[1A\u001b[2K\u001b[1A\u001b[2K\u001b[0G[+] 1.5s\n",
      "bioconda/noarch      \u001b[33m━━━━━━━━━━━━━╸\u001b[0m\u001b[90m━━━━━━━━━\u001b[0m   3.1MB /  ??.?MB @   2.1MB/s  1.5s\n",
      "conda-forge/linux-64 \u001b[33m━━━━━━━━━━╸\u001b[0m\u001b[90m━━━━━━━━━━━━\u001b[0m   7.6MB /  ??.?MB @   5.1MB/s  1.5s\n",
      "conda-forge/noarch   \u001b[33m━━━━━━━╸\u001b[0m\u001b[90m━━━━━━━━━━━━━━━\u001b[0m   7.7MB /  ??.?MB @   5.2MB/s  1.5s\u001b[2K\u001b[1A\u001b[2K\u001b[1A\u001b[2K\u001b[1A\u001b[2K\u001b[0G[+] 1.6s\n",
      "bioconda/noarch      \u001b[33m━━━━━━━━━━━━━━━╸\u001b[0m\u001b[90m━━━━━━━\u001b[0m   3.6MB /  ??.?MB @   2.3MB/s  1.6s\n",
      "conda-forge/linux-64 \u001b[33m━━━━━━━━━━━━╸\u001b[0m\u001b[90m━━━━━━━━━━\u001b[0m   8.0MB /  ??.?MB @   5.1MB/s  1.6s\n",
      "conda-forge/noarch   \u001b[33m━━━━━━━━━━╸\u001b[0m\u001b[90m━━━━━━━━━━━━\u001b[0m   8.3MB /  ??.?MB @   5.2MB/s  1.6s\u001b[2K\u001b[1A\u001b[2K\u001b[1A\u001b[2K\u001b[1A\u001b[2K\u001b[0G[+] 1.7s\n",
      "bioconda/noarch      ━━━━━━━━━━━━━━━━━━━━━━   4.2MB @   2.5MB/s Finalizing  1.7s\n",
      "conda-forge/linux-64 \u001b[33m━━━━━━━━━━━━━━╸\u001b[0m\u001b[90m━━━━━━━\u001b[0m   8.6MB @   5.1MB/s             1.7s\n",
      "conda-forge/noarch   \u001b[33m━━━━━━━━━━━╸\u001b[0m\u001b[90m━━━━━━━━━━\u001b[0m   8.5MB @   5.2MB/s             1.7s\u001b[2K\u001b[1A\u001b[2K\u001b[1A\u001b[2K\u001b[1A\u001b[2K\u001b[0Gbioconda/noarch                                    @   2.5MB/s  1.8s\n",
      "[+] 1.8s\n",
      "conda-forge/linux-64 \u001b[33m━━━━━━━━━━━━━━━╸\u001b[0m\u001b[90m━━━━━━━\u001b[0m   8.6MB /  ??.?MB @   4.9MB/s  1.8s\n",
      "conda-forge/noarch   \u001b[33m━━━━━━━━━━━━╸\u001b[0m\u001b[90m━━━━━━━━━━\u001b[0m   8.7MB /  ??.?MB @   4.9MB/s  1.8s\u001b[2K\u001b[1A\u001b[2K\u001b[1A\u001b[2K\u001b[0G[+] 1.9s\n",
      "conda-forge/linux-64 \u001b[90m━╸\u001b[0m\u001b[33m━━━━━━━━━━━━━━━╸\u001b[0m\u001b[90m━━━━━\u001b[0m   9.8MB /  ??.?MB @   5.2MB/s  1.9s\n",
      "conda-forge/noarch   \u001b[33m━━━━━━━━━━━━━━╸\u001b[0m\u001b[90m━━━━━━━━\u001b[0m   9.8MB /  ??.?MB @   5.2MB/s  1.9s\u001b[2K\u001b[1A\u001b[2K\u001b[1A\u001b[2K\u001b[0G[+] 2.0s\n",
      "conda-forge/linux-64 \u001b[90m━━━━╸\u001b[0m\u001b[33m━━━━━━━━━━━━━━━╸\u001b[0m\u001b[90m━━\u001b[0m  10.3MB /  ??.?MB @   5.2MB/s  2.0s\n",
      "conda-forge/noarch   \u001b[90m╸\u001b[0m\u001b[33m━━━━━━━━━━━━━━━╸\u001b[0m\u001b[90m━━━━━━\u001b[0m  10.4MB /  ??.?MB @   5.2MB/s  2.0s\u001b[2K\u001b[1A\u001b[2K\u001b[1A\u001b[2K\u001b[0G[+] 2.1s\n",
      "conda-forge/linux-64 \u001b[90m━━━━━━╸\u001b[0m\u001b[33m━━━━━━━━━━━━━━━━\u001b[0m  10.9MB /  ??.?MB @   5.2MB/s  2.1s\n",
      "conda-forge/noarch   \u001b[90m━━╸\u001b[0m\u001b[33m━━━━━━━━━━━━━━━╸\u001b[0m\u001b[90m━━━━\u001b[0m  10.9MB /  ??.?MB @   5.2MB/s  2.1s\u001b[2K\u001b[1A\u001b[2K\u001b[1A\u001b[2K\u001b[0G[+] 2.2s\n",
      "conda-forge/linux-64 \u001b[90m━━━━━━━━╸\u001b[0m\u001b[33m━━━━━━━━━━━━━━\u001b[0m  11.5MB /  ??.?MB @   5.3MB/s  2.2s\n",
      "conda-forge/noarch   \u001b[90m━━━━━╸\u001b[0m\u001b[33m━━━━━━━━━━━━━━━╸\u001b[0m\u001b[90m━\u001b[0m  11.4MB /  ??.?MB @   5.2MB/s  2.2s\u001b[2K\u001b[1A\u001b[2K\u001b[1A\u001b[2K\u001b[0G[+] 2.3s\n",
      "conda-forge/linux-64 \u001b[90m━━━━━━━━╸\u001b[0m\u001b[33m━━━━━━━━━━━━━\u001b[0m  11.8MB @   5.3MB/s             2.3s\n",
      "conda-forge/noarch   ━━━━━━━━━━━━━━━━━━━━━━  11.8MB @   5.2MB/s Finalizing  2.3s\u001b[2K\u001b[1A\u001b[2K\u001b[1A\u001b[2K\u001b[0G[+] 2.4s\n",
      "conda-forge/linux-64 \u001b[90m━━━━━━━━╸\u001b[0m\u001b[33m━━━━━━━━━━━━━\u001b[0m  11.8MB @   5.3MB/s             2.4s\n",
      "conda-forge/noarch   ━━━━━━━━━━━━━━━━━━━━━━  11.8MB @   5.2MB/s Finalizing  2.4s\u001b[2K\u001b[1A\u001b[2K\u001b[1A\u001b[2K\u001b[0Gconda-forge/noarch                                 @   5.2MB/s  2.4s\n",
      "[+] 2.5s\n",
      "conda-forge/linux-64 \u001b[90m━━━━━━━━━━━╸\u001b[0m\u001b[33m━━━━━━━━━━━\u001b[0m  13.2MB /  ??.?MB @   5.3MB/s  2.5s\u001b[2K\u001b[1A\u001b[2K\u001b[0G[+] 2.6s\n",
      "conda-forge/linux-64 \u001b[33m━━━━━━━╸\u001b[0m\u001b[90m━━━━━━━━━━━━━━━\u001b[0m  13.7MB /  ??.?MB @   5.3MB/s  2.6s\u001b[2K\u001b[1A\u001b[2K\u001b[0G[+] 2.7s\n",
      "conda-forge/linux-64 \u001b[33m━━━━━━━━━━╸\u001b[0m\u001b[90m━━━━━━━━━━━━\u001b[0m  14.3MB /  ??.?MB @   5.4MB/s  2.7s\u001b[2K\u001b[1A\u001b[2K\u001b[0G[+] 2.8s\n",
      "conda-forge/linux-64 \u001b[33m━━━━━━━━━━━━╸\u001b[0m\u001b[90m━━━━━━━━━━\u001b[0m  14.8MB /  ??.?MB @   5.4MB/s  2.8s\u001b[2K\u001b[1A\u001b[2K\u001b[0G[+] 2.9s\n",
      "conda-forge/linux-64 \u001b[33m━━━━━━━━━━━━━━╸\u001b[0m\u001b[90m━━━━━━━━\u001b[0m  15.4MB /  ??.?MB @   5.4MB/s  2.9s\u001b[2K\u001b[1A\u001b[2K\u001b[0G[+] 3.0s\n",
      "conda-forge/linux-64 \u001b[90m╸\u001b[0m\u001b[33m━━━━━━━━━━━━━━━╸\u001b[0m\u001b[90m━━━━━━\u001b[0m  16.0MB /  ??.?MB @   5.4MB/s  3.0s\u001b[2K\u001b[1A\u001b[2K\u001b[0G[+] 3.1s\n",
      "conda-forge/linux-64 \u001b[90m━━╸\u001b[0m\u001b[33m━━━━━━━━━━━━━━━╸\u001b[0m\u001b[90m━━━━\u001b[0m  16.6MB /  ??.?MB @   5.4MB/s  3.1s\u001b[2K\u001b[1A\u001b[2K\u001b[0G[+] 3.2s\n",
      "conda-forge/linux-64 \u001b[90m━━━━━╸\u001b[0m\u001b[33m━━━━━━━━━━━━━━━╸\u001b[0m\u001b[90m━\u001b[0m  17.2MB /  ??.?MB @   5.4MB/s  3.2s\u001b[2K\u001b[1A\u001b[2K\u001b[0G[+] 3.3s\n",
      "conda-forge/linux-64 \u001b[90m━━━━━━━╸\u001b[0m\u001b[33m━━━━━━━━━━━━━━━\u001b[0m  17.8MB /  ??.?MB @   5.5MB/s  3.3s\u001b[2K\u001b[1A\u001b[2K\u001b[0G[+] 3.4s\n",
      "conda-forge/linux-64 \u001b[90m━━━━━━━━━╸\u001b[0m\u001b[33m━━━━━━━━━━━━━\u001b[0m  18.4MB /  ??.?MB @   5.5MB/s  3.4s\u001b[2K\u001b[1A\u001b[2K\u001b[0G[+] 3.5s\n",
      "conda-forge/linux-64 \u001b[90m━━━━━━━━━━━╸\u001b[0m\u001b[33m━━━━━━━━━━━\u001b[0m  18.9MB /  ??.?MB @   5.5MB/s  3.5s\u001b[2K\u001b[1A\u001b[2K\u001b[0G[+] 3.6s\n",
      "conda-forge/linux-64 \u001b[33m━━━━━━━╸\u001b[0m\u001b[90m━━━━━━━━━━━━━━━\u001b[0m  19.5MB /  ??.?MB @   5.5MB/s  3.6s\u001b[2K\u001b[1A\u001b[2K\u001b[0G[+] 3.7s\n",
      "conda-forge/linux-64 \u001b[33m━━━━━━━━━━╸\u001b[0m\u001b[90m━━━━━━━━━━━━\u001b[0m  20.1MB /  ??.?MB @   5.5MB/s  3.7s\u001b[2K\u001b[1A\u001b[2K\u001b[0G[+] 3.8s\n",
      "conda-forge/linux-64 \u001b[33m━━━━━━━━━━━━╸\u001b[0m\u001b[90m━━━━━━━━━━\u001b[0m  20.6MB /  ??.?MB @   5.5MB/s  3.8s\u001b[2K\u001b[1A\u001b[2K\u001b[0G[+] 3.9s\n",
      "conda-forge/linux-64 \u001b[33m━━━━━━━━━━━━━━╸\u001b[0m\u001b[90m━━━━━━━━\u001b[0m  21.2MB /  ??.?MB @   5.5MB/s  3.9s\u001b[2K\u001b[1A\u001b[2K\u001b[0G[+] 4.0s\n",
      "conda-forge/linux-64 \u001b[90m╸\u001b[0m\u001b[33m━━━━━━━━━━━━━━━╸\u001b[0m\u001b[90m━━━━━━\u001b[0m  21.8MB /  ??.?MB @   5.5MB/s  4.0s\u001b[2K\u001b[1A\u001b[2K\u001b[0G[+] 4.1s\n",
      "conda-forge/linux-64 \u001b[90m━━╸\u001b[0m\u001b[33m━━━━━━━━━━━━━━━╸\u001b[0m\u001b[90m━━━━\u001b[0m  22.3MB /  ??.?MB @   5.5MB/s  4.1s\u001b[2K\u001b[1A\u001b[2K\u001b[0G[+] 4.2s\n",
      "conda-forge/linux-64 \u001b[90m━━━━━╸\u001b[0m\u001b[33m━━━━━━━━━━━━━━━╸\u001b[0m\u001b[90m━\u001b[0m  22.9MB /  ??.?MB @   5.5MB/s  4.2s\u001b[2K\u001b[1A\u001b[2K\u001b[0G[+] 4.3s\n",
      "conda-forge/linux-64 \u001b[90m━━━━━━━╸\u001b[0m\u001b[33m━━━━━━━━━━━━━━━\u001b[0m  23.5MB /  ??.?MB @   5.5MB/s  4.3s\u001b[2K\u001b[1A\u001b[2K\u001b[0G[+] 4.4s\n",
      "conda-forge/linux-64 \u001b[90m━━━━━━━━━╸\u001b[0m\u001b[33m━━━━━━━━━━━━━\u001b[0m  24.0MB /  ??.?MB @   5.5MB/s  4.4s\u001b[2K\u001b[1A\u001b[2K\u001b[0G[+] 4.5s\n",
      "conda-forge/linux-64 \u001b[90m━━━━━━━━━━━╸\u001b[0m\u001b[33m━━━━━━━━━━━\u001b[0m  24.6MB /  ??.?MB @   5.5MB/s  4.5s\u001b[2K\u001b[1A\u001b[2K\u001b[0G[+] 4.6s\n",
      "conda-forge/linux-64 \u001b[33m━━━━━━━╸\u001b[0m\u001b[90m━━━━━━━━━━━━━━━\u001b[0m  25.2MB /  ??.?MB @   5.5MB/s  4.6s\u001b[2K\u001b[1A\u001b[2K\u001b[0G[+] 4.7s\n",
      "conda-forge/linux-64 \u001b[33m━━━━━━━━━━╸\u001b[0m\u001b[90m━━━━━━━━━━━━\u001b[0m  25.8MB /  ??.?MB @   5.5MB/s  4.7s\u001b[2K\u001b[1A\u001b[2K\u001b[0G[+] 4.8s\n",
      "conda-forge/linux-64 \u001b[33m━━━━━━━━━━━━╸\u001b[0m\u001b[90m━━━━━━━━━━\u001b[0m  26.4MB /  ??.?MB @   5.5MB/s  4.8s\u001b[2K\u001b[1A\u001b[2K\u001b[0G[+] 4.9s\n",
      "conda-forge/linux-64 \u001b[33m━━━━━━━━━━━━━━╸\u001b[0m\u001b[90m━━━━━━━━\u001b[0m  27.0MB /  ??.?MB @   5.5MB/s  4.9s\u001b[2K\u001b[1A\u001b[2K\u001b[0G[+] 5.0s\n",
      "conda-forge/linux-64 \u001b[90m╸\u001b[0m\u001b[33m━━━━━━━━━━━━━━━╸\u001b[0m\u001b[90m━━━━━━\u001b[0m  27.6MB /  ??.?MB @   5.5MB/s  5.0s\u001b[2K\u001b[1A\u001b[2K\u001b[0G[+] 5.1s\n",
      "conda-forge/linux-64 \u001b[90m━━╸\u001b[0m\u001b[33m━━━━━━━━━━━━━━━╸\u001b[0m\u001b[90m━━━━\u001b[0m  28.2MB /  ??.?MB @   5.5MB/s  5.1s\u001b[2K\u001b[1A\u001b[2K\u001b[0G[+] 5.2s\n",
      "conda-forge/linux-64 \u001b[90m━━━━━╸\u001b[0m\u001b[33m━━━━━━━━━━━━━━━╸\u001b[0m\u001b[90m━\u001b[0m  28.7MB /  ??.?MB @   5.5MB/s  5.2s\u001b[2K\u001b[1A\u001b[2K\u001b[0G[+] 5.3s\n",
      "conda-forge/linux-64 \u001b[90m━━━━━━━╸\u001b[0m\u001b[33m━━━━━━━━━━━━━━━\u001b[0m  29.3MB /  ??.?MB @   5.5MB/s  5.3s\u001b[2K\u001b[1A\u001b[2K\u001b[0G[+] 5.4s\n",
      "conda-forge/linux-64 \u001b[90m━━━━━━━━━╸\u001b[0m\u001b[33m━━━━━━━━━━━━━\u001b[0m  29.9MB /  ??.?MB @   5.5MB/s  5.4s\u001b[2K\u001b[1A\u001b[2K\u001b[0G[+] 5.5s\n",
      "conda-forge/linux-64 \u001b[90m━━━━━━━━━━━╸\u001b[0m\u001b[33m━━━━━━━━━━━\u001b[0m  30.4MB /  ??.?MB @   5.5MB/s  5.5s\u001b[2K\u001b[1A\u001b[2K\u001b[0G[+] 5.6s\n",
      "conda-forge/linux-64 ━━━━━━━━━━━━━━━━━━━━━━  30.6MB @   5.5MB/s Finalizing  5.6s\u001b[2K\u001b[1A\u001b[2K\u001b[0G[+] 5.7s\n",
      "conda-forge/linux-64 ━━━━━━━━━━━━━━━━━━━━━━  30.6MB @   5.5MB/s Finalizing  5.7s\u001b[2K\u001b[1A\u001b[2K\u001b[0G[+] 5.8s\n",
      "conda-forge/linux-64 ━━━━━━━━━━━━━━━━━━━━━━  30.6MB @   5.5MB/s Finalizing  5.8s\u001b[2K\u001b[1A\u001b[2K\u001b[0Gconda-forge/linux-64                               @   5.5MB/s  5.9s\n",
      "\u001b[?25h\n",
      "Pinned packages:\n",
      "  - python 3.8.*\n",
      "\n",
      "\n",
      "Transaction\n",
      "\n",
      "  Prefix: /work/c00cjz00wsi/my_container/.package_p2/envs/p2\n",
      "\n",
      "  All requested packages already installed\n",
      "\n",
      "\u001b[?25l\u001b[2K\u001b[0G\u001b[?25h"
     ]
    }
   ],
   "source": [
    "mamba install -n base -y -c bioconda -c conda-forge picrust2=2.5.1"
   ]
  },
  {
   "cell_type": "code",
   "execution_count": 36,
   "id": "4380a1df-c63f-4fd2-833f-627a1e1f7b62",
   "metadata": {},
   "outputs": [],
   "source": [
    "!diff /tmp/1 /tmp/2"
   ]
  },
  {
   "cell_type": "code",
   "execution_count": 3,
   "id": "ab2b63c0-8c7b-48a6-bde6-f6e083c22cea",
   "metadata": {},
   "outputs": [
    {
     "name": "stdout",
     "output_type": "stream",
     "text": [
      "PICRUSt2                      2.5.1     /work/c00cjz00wsi/my_container/.package_p2/envs/p2/lib/python3.8/site-packages conda\n",
      "Note: you may need to restart the kernel to use updated packages.\n"
     ]
    }
   ],
   "source": [
    "pip list -v |grep -i picrust"
   ]
  },
  {
   "cell_type": "code",
   "execution_count": 4,
   "id": "de302abc-f7d3-4e57-a6c9-5df8b5e02059",
   "metadata": {},
   "outputs": [
    {
     "name": "stdout",
     "output_type": "stream",
     "text": [
      "Requirement already satisfied: pandas in /work/c00cjz00wsi/my_container/.package_p2/envs/p2/lib/python3.8/site-packages (2.0.0)\n",
      "Requirement already satisfied: pytz>=2020.1 in /work/c00cjz00wsi/my_container/.package_p2/envs/p2/lib/python3.8/site-packages (from pandas) (2022.7)\n",
      "Requirement already satisfied: tzdata>=2022.1 in /work/c00cjz00wsi/my_container/.package_p2/envs/p2/lib/python3.8/site-packages (from pandas) (2023.3)\n",
      "Requirement already satisfied: python-dateutil>=2.8.2 in /work/c00cjz00wsi/my_container/.package_p2/envs/p2/lib/python3.8/site-packages (from pandas) (2.8.2)\n",
      "Requirement already satisfied: numpy>=1.20.3 in /work/c00cjz00wsi/my_container/.package_p2/envs/p2/lib/python3.8/site-packages (from pandas) (1.23.5)\n",
      "Requirement already satisfied: six>=1.5 in /work/c00cjz00wsi/my_container/.package_p2/envs/p2/lib/python3.8/site-packages (from python-dateutil>=2.8.2->pandas) (1.16.0)\n",
      "Note: you may need to restart the kernel to use updated packages.\n"
     ]
    }
   ],
   "source": [
    "pip install pandas"
   ]
  },
  {
   "cell_type": "code",
   "execution_count": 5,
   "id": "23966cf8-fd56-4a78-ab5e-e1bd803f26a6",
   "metadata": {},
   "outputs": [
    {
     "name": "stdout",
     "output_type": "stream",
     "text": [
      "pandas                        2.0.0     /work/c00cjz00wsi/my_container/.package_p2/envs/p2/lib/python3.8/site-packages pip\n",
      "Note: you may need to restart the kernel to use updated packages.\n"
     ]
    }
   ],
   "source": [
    "pip list -v |grep pandas"
   ]
  },
  {
   "cell_type": "code",
   "execution_count": 7,
   "id": "a61f915f-2b67-4c7c-9c40-eefbb521f425",
   "metadata": {},
   "outputs": [
    {
     "name": "stdout",
     "output_type": "stream",
     "text": [
      "/home/c00cjz00wsi/00-course/qiime2/data\n",
      "Warning - 27 input sequences aligned poorly to reference sequences (--min_align option specified a minimum proportion of 0.8 aligning to reference sequences). These input sequences will not be placed and will be excluded from downstream steps.\n",
      "\n",
      "This is the set of poorly aligned input sequences to be excluded: b205506e8595a8473cd55f4c813595da, 609d7947209d7edb5b6f40440c9427b9, cb50a09faa2007e8e725bc037f4d12cc, 9ed48d17942aa67f3b8675a3fca6ecdd, 820be7a3f9ae9b347b6f8bc7a6e27c83, 57d5d1158cc7f796da24657315991912, cbdff51c3614babe66534e48c404c817, 2d37e6e61e12acf63ebe5ffbfc49a4d7, c61697043e5328d5ceeec15ad18d6183, ca51078854f36b1f120e4ddf8fac0161, 4de848060f9985f5cc148758f55de62b, 397990722832e5b5d8f7131af3ad0566, 256812db53fff548a9170e1f01927734, bb3e05260945c2064519515d68787256, 5a540edec650ec0a3cf4aff35cec705a, d4c5f79d4e8969d68dc0e2268cf1876b, 9d282dc6a4e5356d310348cfcf0aea9c, 4b491a7d70a316ce25f4c83e12c634a5, e3cfb50b2e968725017137d2cc9092d6, aa13bc3917cdc8542885be13f330b658, 96f4fbb8da6f6a7aa9cfe1c71a55c002, 49620caac676d8b88c274354b4889c1a, 646090647aefafb96f46e8feac08cae2, e50f27c41df10fec198ae1d73b38d985, 365fe1f54d979ff7312bb17bdcfde435, 050ab30baef6c0ec9474f893a9c4cfec, b931c70efd7054a67270782d620669b8\n",
      "\n",
      "\n",
      "\n",
      "\n",
      "\n",
      "1 of 347 ASVs were above the max NSTI cut-off of 2.0 and were removed from the downstream analyses.\n",
      "\n",
      "1 of 347 ASVs were above the max NSTI cut-off of 2.0 and were removed from the downstream analyses.\n",
      "\n",
      "\n"
     ]
    }
   ],
   "source": [
    "%cd ~/00-course/qiime2/data\n",
    "!picrust2_pipeline.py \\\n",
    "  -s dna-sequences.fasta \\\n",
    "  -i feature-table.biom \\\n",
    "  -o picrust2_out_pipeline \\\n",
    "  -p 12"
   ]
  },
  {
   "cell_type": "code",
   "execution_count": 8,
   "id": "396d7d84-b460-4b27-80c9-0c2a77249b06",
   "metadata": {},
   "outputs": [
    {
     "name": "stdout",
     "output_type": "stream",
     "text": [
      "/home/c00cjz00wsi/00-course/qiime2/data/picrust2_out_pipeline\n"
     ]
    }
   ],
   "source": [
    "%cd ~/00-course/qiime2/data/picrust2_out_pipeline \n",
    "!add_descriptions.py \\\n",
    "  -i EC_metagenome_out/pred_metagenome_unstrat.tsv.gz \\\n",
    "  -m EC \\\n",
    "  -o EC_metagenome_out/pred_metagenome_unstrat_descrip.tsv.gz"
   ]
  },
  {
   "cell_type": "code",
   "execution_count": 9,
   "id": "6f299220-c400-463a-be8b-1e8b0eae0802",
   "metadata": {},
   "outputs": [
    {
     "name": "stdout",
     "output_type": "stream",
     "text": [
      "/home/c00cjz00wsi/00-course/qiime2/data/picrust2_out_pipeline\n"
     ]
    }
   ],
   "source": [
    "%cd ~/00-course/qiime2/data/picrust2_out_pipeline \n",
    "!add_descriptions.py \\\n",
    "-i KO_metagenome_out/pred_metagenome_unstrat.tsv.gz \\\n",
    "-m KO \\\n",
    "-o KO_metagenome_out/pred_metagenome_unstrat_descrip.tsv.gz"
   ]
  },
  {
   "cell_type": "code",
   "execution_count": 10,
   "id": "892e6e2a-eb31-4f90-bd45-22690fcdd3a8",
   "metadata": {},
   "outputs": [
    {
     "name": "stdout",
     "output_type": "stream",
     "text": [
      "/home/c00cjz00wsi/00-course/qiime2/data/picrust2_out_pipeline\n"
     ]
    }
   ],
   "source": [
    "%cd ~/00-course/qiime2/data/picrust2_out_pipeline \n",
    "!add_descriptions.py \\\n",
    "  -i pathways_out/path_abun_unstrat.tsv.gz \\\n",
    "  -m METACYC \\\n",
    "  -o pathways_out/path_abun_unstrat_descrip.tsv.gz"
   ]
  },
  {
   "cell_type": "markdown",
   "id": "457ea753-0c91-4c6b-830a-e64a6e74e891",
   "metadata": {},
   "source": [
    "## STAMP"
   ]
  },
  {
   "cell_type": "code",
   "execution_count": 13,
   "id": "2b6cf011-053d-407e-bfcc-86c075f6e386",
   "metadata": {},
   "outputs": [
    {
     "name": "stdout",
     "output_type": "stream",
     "text": [
      "/home/c00cjz00wsi/00-course/qiime2\n"
     ]
    }
   ],
   "source": [
    "%cd ~/00-course/qiime2\n",
    "!gunzip data/picrust2_out_pipeline/EC_metagenome_out/pred_metagenome_unstrat_descrip.tsv.gz"
   ]
  },
  {
   "cell_type": "code",
   "execution_count": 17,
   "id": "fd2be9a5-e175-4620-b64b-a81e68f991f8",
   "metadata": {},
   "outputs": [
    {
     "name": "stdout",
     "output_type": "stream",
     "text": [
      "/home/c00cjz00wsi/00-course/qiime2\n"
     ]
    }
   ],
   "source": [
    "%cd ~/00-course/qiime2\n",
    "# Import pandas\n",
    "import pandas as pd\n",
    "# Read TSV file into DataFrame\n",
    "df = pd.read_table('data/picrust2_out_pipeline/EC_metagenome_out/pred_metagenome_unstrat_descrip.tsv')"
   ]
  },
  {
   "cell_type": "code",
   "execution_count": 18,
   "id": "d6e21af0-5355-43d4-acf9-bcc4e95e315f",
   "metadata": {},
   "outputs": [
    {
     "data": {
      "text/html": [
       "<div>\n",
       "<style scoped>\n",
       "    .dataframe tbody tr th:only-of-type {\n",
       "        vertical-align: middle;\n",
       "    }\n",
       "\n",
       "    .dataframe tbody tr th {\n",
       "        vertical-align: top;\n",
       "    }\n",
       "\n",
       "    .dataframe thead th {\n",
       "        text-align: right;\n",
       "    }\n",
       "</style>\n",
       "<table border=\"1\" class=\"dataframe\">\n",
       "  <thead>\n",
       "    <tr style=\"text-align: right;\">\n",
       "      <th></th>\n",
       "      <th>function</th>\n",
       "      <th>description</th>\n",
       "      <th>CRC_A</th>\n",
       "      <th>CRC_B</th>\n",
       "      <th>CRC_C</th>\n",
       "      <th>CRC_D</th>\n",
       "      <th>CRC_E</th>\n",
       "      <th>CRC_F</th>\n",
       "    </tr>\n",
       "  </thead>\n",
       "  <tbody>\n",
       "    <tr>\n",
       "      <th>0</th>\n",
       "      <td>EC:1.1.1.1</td>\n",
       "      <td>Alcohol dehydrogenase</td>\n",
       "      <td>18794.29</td>\n",
       "      <td>19032.78</td>\n",
       "      <td>31185.93</td>\n",
       "      <td>17137.23</td>\n",
       "      <td>14485.23</td>\n",
       "      <td>23238.75</td>\n",
       "    </tr>\n",
       "    <tr>\n",
       "      <th>1</th>\n",
       "      <td>EC:1.1.1.100</td>\n",
       "      <td>3-oxoacyl-[acyl-carrier-protein] reductase</td>\n",
       "      <td>43579.57</td>\n",
       "      <td>32083.94</td>\n",
       "      <td>60889.85</td>\n",
       "      <td>31771.04</td>\n",
       "      <td>28571.40</td>\n",
       "      <td>42411.00</td>\n",
       "    </tr>\n",
       "    <tr>\n",
       "      <th>2</th>\n",
       "      <td>EC:1.1.1.103</td>\n",
       "      <td>L-threonine 3-dehydrogenase</td>\n",
       "      <td>1856.00</td>\n",
       "      <td>2326.74</td>\n",
       "      <td>1541.33</td>\n",
       "      <td>1827.86</td>\n",
       "      <td>436.50</td>\n",
       "      <td>1482.80</td>\n",
       "    </tr>\n",
       "    <tr>\n",
       "      <th>3</th>\n",
       "      <td>EC:1.1.1.105</td>\n",
       "      <td>All-trans-retinol dehydrogenase (NAD(+))</td>\n",
       "      <td>0.00</td>\n",
       "      <td>0.00</td>\n",
       "      <td>0.00</td>\n",
       "      <td>114.00</td>\n",
       "      <td>0.00</td>\n",
       "      <td>0.00</td>\n",
       "    </tr>\n",
       "    <tr>\n",
       "      <th>4</th>\n",
       "      <td>EC:1.1.1.108</td>\n",
       "      <td>Carnitine 3-dehydrogenase</td>\n",
       "      <td>266.00</td>\n",
       "      <td>0.00</td>\n",
       "      <td>86.00</td>\n",
       "      <td>1719.17</td>\n",
       "      <td>341.00</td>\n",
       "      <td>0.00</td>\n",
       "    </tr>\n",
       "    <tr>\n",
       "      <th>...</th>\n",
       "      <td>...</td>\n",
       "      <td>...</td>\n",
       "      <td>...</td>\n",
       "      <td>...</td>\n",
       "      <td>...</td>\n",
       "      <td>...</td>\n",
       "      <td>...</td>\n",
       "      <td>...</td>\n",
       "    </tr>\n",
       "    <tr>\n",
       "      <th>1907</th>\n",
       "      <td>EC:6.5.1.5</td>\n",
       "      <td>RNA 3'-terminal-phosphate cyclase (GTP)</td>\n",
       "      <td>58.00</td>\n",
       "      <td>0.00</td>\n",
       "      <td>0.00</td>\n",
       "      <td>0.00</td>\n",
       "      <td>0.00</td>\n",
       "      <td>61.00</td>\n",
       "    </tr>\n",
       "    <tr>\n",
       "      <th>1908</th>\n",
       "      <td>EC:6.5.1.6</td>\n",
       "      <td>DNA ligase (ATP or NAD(+))</td>\n",
       "      <td>95.00</td>\n",
       "      <td>0.50</td>\n",
       "      <td>0.00</td>\n",
       "      <td>2767.67</td>\n",
       "      <td>23.00</td>\n",
       "      <td>528.00</td>\n",
       "    </tr>\n",
       "    <tr>\n",
       "      <th>1909</th>\n",
       "      <td>EC:6.5.1.7</td>\n",
       "      <td>DNA ligase (ATP, ADP or GTP)</td>\n",
       "      <td>95.00</td>\n",
       "      <td>0.50</td>\n",
       "      <td>0.00</td>\n",
       "      <td>2767.67</td>\n",
       "      <td>23.00</td>\n",
       "      <td>528.00</td>\n",
       "    </tr>\n",
       "    <tr>\n",
       "      <th>1910</th>\n",
       "      <td>EC:6.6.1.1</td>\n",
       "      <td>Magnesium chelatase</td>\n",
       "      <td>1467.00</td>\n",
       "      <td>0.00</td>\n",
       "      <td>1730.66</td>\n",
       "      <td>2145.67</td>\n",
       "      <td>2028.00</td>\n",
       "      <td>1534.00</td>\n",
       "    </tr>\n",
       "    <tr>\n",
       "      <th>1911</th>\n",
       "      <td>EC:6.6.1.2</td>\n",
       "      <td>Cobaltochelatase</td>\n",
       "      <td>2023.79</td>\n",
       "      <td>93.00</td>\n",
       "      <td>1365.36</td>\n",
       "      <td>4348.43</td>\n",
       "      <td>11911.19</td>\n",
       "      <td>3966.63</td>\n",
       "    </tr>\n",
       "  </tbody>\n",
       "</table>\n",
       "<p>1912 rows × 8 columns</p>\n",
       "</div>"
      ],
      "text/plain": [
       "          function                                 description     CRC_A   \n",
       "0       EC:1.1.1.1                       Alcohol dehydrogenase  18794.29  \\\n",
       "1     EC:1.1.1.100  3-oxoacyl-[acyl-carrier-protein] reductase  43579.57   \n",
       "2     EC:1.1.1.103                 L-threonine 3-dehydrogenase   1856.00   \n",
       "3     EC:1.1.1.105    All-trans-retinol dehydrogenase (NAD(+))      0.00   \n",
       "4     EC:1.1.1.108                   Carnitine 3-dehydrogenase    266.00   \n",
       "...            ...                                         ...       ...   \n",
       "1907    EC:6.5.1.5     RNA 3'-terminal-phosphate cyclase (GTP)     58.00   \n",
       "1908    EC:6.5.1.6                  DNA ligase (ATP or NAD(+))     95.00   \n",
       "1909    EC:6.5.1.7                DNA ligase (ATP, ADP or GTP)     95.00   \n",
       "1910    EC:6.6.1.1                         Magnesium chelatase   1467.00   \n",
       "1911    EC:6.6.1.2                            Cobaltochelatase   2023.79   \n",
       "\n",
       "         CRC_B     CRC_C     CRC_D     CRC_E     CRC_F  \n",
       "0     19032.78  31185.93  17137.23  14485.23  23238.75  \n",
       "1     32083.94  60889.85  31771.04  28571.40  42411.00  \n",
       "2      2326.74   1541.33   1827.86    436.50   1482.80  \n",
       "3         0.00      0.00    114.00      0.00      0.00  \n",
       "4         0.00     86.00   1719.17    341.00      0.00  \n",
       "...        ...       ...       ...       ...       ...  \n",
       "1907      0.00      0.00      0.00      0.00     61.00  \n",
       "1908      0.50      0.00   2767.67     23.00    528.00  \n",
       "1909      0.50      0.00   2767.67     23.00    528.00  \n",
       "1910      0.00   1730.66   2145.67   2028.00   1534.00  \n",
       "1911     93.00   1365.36   4348.43  11911.19   3966.63  \n",
       "\n",
       "[1912 rows x 8 columns]"
      ]
     },
     "execution_count": 18,
     "metadata": {},
     "output_type": "execute_result"
    }
   ],
   "source": [
    "df"
   ]
  },
  {
   "cell_type": "code",
   "execution_count": 19,
   "id": "cde66639-f676-45f6-8164-d3661439366a",
   "metadata": {},
   "outputs": [],
   "source": [
    "df = df.drop('function', axis=1)"
   ]
  },
  {
   "cell_type": "code",
   "execution_count": 20,
   "id": "0ef5fbcf-5e05-4f19-806e-17c90f496367",
   "metadata": {},
   "outputs": [
    {
     "data": {
      "text/html": [
       "<div>\n",
       "<style scoped>\n",
       "    .dataframe tbody tr th:only-of-type {\n",
       "        vertical-align: middle;\n",
       "    }\n",
       "\n",
       "    .dataframe tbody tr th {\n",
       "        vertical-align: top;\n",
       "    }\n",
       "\n",
       "    .dataframe thead th {\n",
       "        text-align: right;\n",
       "    }\n",
       "</style>\n",
       "<table border=\"1\" class=\"dataframe\">\n",
       "  <thead>\n",
       "    <tr style=\"text-align: right;\">\n",
       "      <th></th>\n",
       "      <th>description</th>\n",
       "      <th>CRC_A</th>\n",
       "      <th>CRC_B</th>\n",
       "      <th>CRC_C</th>\n",
       "      <th>CRC_D</th>\n",
       "      <th>CRC_E</th>\n",
       "      <th>CRC_F</th>\n",
       "    </tr>\n",
       "  </thead>\n",
       "  <tbody>\n",
       "    <tr>\n",
       "      <th>0</th>\n",
       "      <td>Alcohol dehydrogenase</td>\n",
       "      <td>18794.29</td>\n",
       "      <td>19032.78</td>\n",
       "      <td>31185.93</td>\n",
       "      <td>17137.23</td>\n",
       "      <td>14485.23</td>\n",
       "      <td>23238.75</td>\n",
       "    </tr>\n",
       "    <tr>\n",
       "      <th>1</th>\n",
       "      <td>3-oxoacyl-[acyl-carrier-protein] reductase</td>\n",
       "      <td>43579.57</td>\n",
       "      <td>32083.94</td>\n",
       "      <td>60889.85</td>\n",
       "      <td>31771.04</td>\n",
       "      <td>28571.40</td>\n",
       "      <td>42411.00</td>\n",
       "    </tr>\n",
       "    <tr>\n",
       "      <th>2</th>\n",
       "      <td>L-threonine 3-dehydrogenase</td>\n",
       "      <td>1856.00</td>\n",
       "      <td>2326.74</td>\n",
       "      <td>1541.33</td>\n",
       "      <td>1827.86</td>\n",
       "      <td>436.50</td>\n",
       "      <td>1482.80</td>\n",
       "    </tr>\n",
       "    <tr>\n",
       "      <th>3</th>\n",
       "      <td>All-trans-retinol dehydrogenase (NAD(+))</td>\n",
       "      <td>0.00</td>\n",
       "      <td>0.00</td>\n",
       "      <td>0.00</td>\n",
       "      <td>114.00</td>\n",
       "      <td>0.00</td>\n",
       "      <td>0.00</td>\n",
       "    </tr>\n",
       "    <tr>\n",
       "      <th>4</th>\n",
       "      <td>Carnitine 3-dehydrogenase</td>\n",
       "      <td>266.00</td>\n",
       "      <td>0.00</td>\n",
       "      <td>86.00</td>\n",
       "      <td>1719.17</td>\n",
       "      <td>341.00</td>\n",
       "      <td>0.00</td>\n",
       "    </tr>\n",
       "    <tr>\n",
       "      <th>...</th>\n",
       "      <td>...</td>\n",
       "      <td>...</td>\n",
       "      <td>...</td>\n",
       "      <td>...</td>\n",
       "      <td>...</td>\n",
       "      <td>...</td>\n",
       "      <td>...</td>\n",
       "    </tr>\n",
       "    <tr>\n",
       "      <th>1907</th>\n",
       "      <td>RNA 3'-terminal-phosphate cyclase (GTP)</td>\n",
       "      <td>58.00</td>\n",
       "      <td>0.00</td>\n",
       "      <td>0.00</td>\n",
       "      <td>0.00</td>\n",
       "      <td>0.00</td>\n",
       "      <td>61.00</td>\n",
       "    </tr>\n",
       "    <tr>\n",
       "      <th>1908</th>\n",
       "      <td>DNA ligase (ATP or NAD(+))</td>\n",
       "      <td>95.00</td>\n",
       "      <td>0.50</td>\n",
       "      <td>0.00</td>\n",
       "      <td>2767.67</td>\n",
       "      <td>23.00</td>\n",
       "      <td>528.00</td>\n",
       "    </tr>\n",
       "    <tr>\n",
       "      <th>1909</th>\n",
       "      <td>DNA ligase (ATP, ADP or GTP)</td>\n",
       "      <td>95.00</td>\n",
       "      <td>0.50</td>\n",
       "      <td>0.00</td>\n",
       "      <td>2767.67</td>\n",
       "      <td>23.00</td>\n",
       "      <td>528.00</td>\n",
       "    </tr>\n",
       "    <tr>\n",
       "      <th>1910</th>\n",
       "      <td>Magnesium chelatase</td>\n",
       "      <td>1467.00</td>\n",
       "      <td>0.00</td>\n",
       "      <td>1730.66</td>\n",
       "      <td>2145.67</td>\n",
       "      <td>2028.00</td>\n",
       "      <td>1534.00</td>\n",
       "    </tr>\n",
       "    <tr>\n",
       "      <th>1911</th>\n",
       "      <td>Cobaltochelatase</td>\n",
       "      <td>2023.79</td>\n",
       "      <td>93.00</td>\n",
       "      <td>1365.36</td>\n",
       "      <td>4348.43</td>\n",
       "      <td>11911.19</td>\n",
       "      <td>3966.63</td>\n",
       "    </tr>\n",
       "  </tbody>\n",
       "</table>\n",
       "<p>1912 rows × 7 columns</p>\n",
       "</div>"
      ],
      "text/plain": [
       "                                     description     CRC_A     CRC_B   \n",
       "0                          Alcohol dehydrogenase  18794.29  19032.78  \\\n",
       "1     3-oxoacyl-[acyl-carrier-protein] reductase  43579.57  32083.94   \n",
       "2                    L-threonine 3-dehydrogenase   1856.00   2326.74   \n",
       "3       All-trans-retinol dehydrogenase (NAD(+))      0.00      0.00   \n",
       "4                      Carnitine 3-dehydrogenase    266.00      0.00   \n",
       "...                                          ...       ...       ...   \n",
       "1907     RNA 3'-terminal-phosphate cyclase (GTP)     58.00      0.00   \n",
       "1908                  DNA ligase (ATP or NAD(+))     95.00      0.50   \n",
       "1909                DNA ligase (ATP, ADP or GTP)     95.00      0.50   \n",
       "1910                         Magnesium chelatase   1467.00      0.00   \n",
       "1911                            Cobaltochelatase   2023.79     93.00   \n",
       "\n",
       "         CRC_C     CRC_D     CRC_E     CRC_F  \n",
       "0     31185.93  17137.23  14485.23  23238.75  \n",
       "1     60889.85  31771.04  28571.40  42411.00  \n",
       "2      1541.33   1827.86    436.50   1482.80  \n",
       "3         0.00    114.00      0.00      0.00  \n",
       "4        86.00   1719.17    341.00      0.00  \n",
       "...        ...       ...       ...       ...  \n",
       "1907      0.00      0.00      0.00     61.00  \n",
       "1908      0.00   2767.67     23.00    528.00  \n",
       "1909      0.00   2767.67     23.00    528.00  \n",
       "1910   1730.66   2145.67   2028.00   1534.00  \n",
       "1911   1365.36   4348.43  11911.19   3966.63  \n",
       "\n",
       "[1912 rows x 7 columns]"
      ]
     },
     "execution_count": 20,
     "metadata": {},
     "output_type": "execute_result"
    }
   ],
   "source": [
    "df"
   ]
  },
  {
   "cell_type": "code",
   "execution_count": 22,
   "id": "0e42cf9f-b03d-4432-962f-7f7b16cf336c",
   "metadata": {},
   "outputs": [
    {
     "name": "stdout",
     "output_type": "stream",
     "text": [
      "/home/c00cjz00wsi/00-course/qiime2\n"
     ]
    }
   ],
   "source": [
    "%cd ~/00-course/qiime2\n",
    "df.to_csv('data/picrust2_out_pipeline/EC_metagenome_out/pred_metagenome_unstrat_descrip_fix.tsv', sep=\"\\t\",index=False)"
   ]
  },
  {
   "cell_type": "code",
   "execution_count": null,
   "id": "623210ed-6c8d-4daf-a8cb-4d3c360bf2b5",
   "metadata": {},
   "outputs": [],
   "source": []
  }
 ],
 "metadata": {
  "kernelspec": {
   "display_name": "p2",
   "language": "python",
   "name": "conda_p2"
  },
  "language_info": {
   "codemirror_mode": {
    "name": "ipython",
    "version": 3
   },
   "file_extension": ".py",
   "mimetype": "text/x-python",
   "name": "python",
   "nbconvert_exporter": "python",
   "pygments_lexer": "ipython3",
   "version": "3.8.16"
  }
 },
 "nbformat": 4,
 "nbformat_minor": 5
}
