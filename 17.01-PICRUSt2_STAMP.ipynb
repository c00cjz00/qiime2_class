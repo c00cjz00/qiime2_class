{
 "cells": [
  {
   "cell_type": "code",
   "execution_count": 1,
   "id": "a4d7389c-c1a9-49bf-a469-d75dd2e893d7",
   "metadata": {},
   "outputs": [
    {
     "name": "stdout",
     "output_type": "stream",
     "text": [
      "/work/c00cjz00wsi/my_container/.package_qiime2_2023.2.sif/envs/qiime2_2023.2.sif\n",
      "/work/c00cjz00wsi/my_container/.package_qiime2_2023.2.sif/envs/qiime2_2023.2.sif/bin:/opt/conda/envs/qiime2-2023.2/bin:/opt/conda/bin:/usr/local/sbin:/usr/local/bin:/usr/sbin:/usr/bin:/sbin:/bin\n",
      "['/work/c00cjz00wsi/my_container/.package_qiime2_2023.2.sif/envs/qiime2_2023.2.sif/lib/python3.8/site-packages', '/opt/conda/envs/qiime2-2023.2/lib/python3.8/site-packages', '/home/c00cjz00wsi/class/qiime2', '/opt/conda/envs/qiime2-2023.2/lib/python38.zip', '/opt/conda/envs/qiime2-2023.2/lib/python3.8', '/opt/conda/envs/qiime2-2023.2/lib/python3.8/lib-dynload', '']\n"
     ]
    }
   ],
   "source": [
    "# 此映像檔套件位置\n",
    "import os, sys, sysconfig\n",
    "site_packages_path=(sysconfig.get_paths()[\"purelib\"])\n",
    "dirname=os.path.dirname(site_packages_path)\n",
    "python_basename=os.path.basename(dirname)\n",
    "# 更換PIP安裝位置\n",
    "if \"SINGULARITY_NAME\" in os.environ:\n",
    "  #kernel_name = os.path.basename(sys.executable.replace(\"/bin/python\",\"\"))\n",
    "  kernel_name = os.environ['SINGULARITY_NAME']\n",
    "  #os.environ['PYTHONUSERBASE']=os.environ['HOME']+'/.slurm_jupyter/pip_'+kernel_name\n",
    "  os.environ['PYTHONUSERBASE']='/work/'+os.path.basename(os.environ['HOME'])+'/my_container/.package_'+kernel_name+'/envs/'+kernel_name\n",
    "# 新增 Binarry 位置\n",
    "Add_Binarry_Path=os.environ['PYTHONUSERBASE']+'/bin'\n",
    "os.environ['PATH']=Add_Binarry_Path+\":\"+os.environ['PATH']\n",
    "# 更換library位置\n",
    "sys_path_add=os.environ['PYTHONUSERBASE']+'/lib/'+python_basename+'/site-packages'\n",
    "if sys_path_add in sys.path:\n",
    "  print(\"not add\")\n",
    "else:\n",
    "  sys.path.insert(0, sys_path_add)\n",
    "# 更換排序\n",
    "sys.path = sorted(sys.path, key=lambda x: x.startswith(site_packages_path), reverse=True)\n",
    "sys.path = sorted(sys.path, key=lambda x: x.startswith(sys_path_add), reverse=True)\n",
    "\n",
    "os.environ['XDG_CONFIG_HOME']=os.environ['HOME']\n",
    "# 印出結果\n",
    "print(os.environ['PYTHONUSERBASE'])\n",
    "print(os.environ['PATH'])\n",
    "print(sys.path)"
   ]
  },
  {
   "cell_type": "code",
   "execution_count": 2,
   "id": "46362c45-c3a9-419f-bb91-b1fc31698ca2",
   "metadata": {},
   "outputs": [
    {
     "name": "stdout",
     "output_type": "stream",
     "text": [
      "/home/c00cjz00wsi/class/qiime2/output\n",
      "\u001b[32mExported table-dada2.qza as BIOMV210DirFmt to directory ./\u001b[0m\n",
      "\u001b[0m"
     ]
    }
   ],
   "source": [
    "%cd ~/class/qiime2/output\n",
    "!qiime tools export \\\n",
    "  --input-path table-dada2.qza \\\n",
    "  --output-path ./"
   ]
  },
  {
   "cell_type": "code",
   "execution_count": 3,
   "id": "b857dd83-628c-48d0-b4d5-e1875d46b2a0",
   "metadata": {},
   "outputs": [
    {
     "name": "stdout",
     "output_type": "stream",
     "text": [
      "/home/c00cjz00wsi/class/qiime2/output\n",
      "# Constructed from biom file\n",
      "#OTU ID\tSRR6498087\tSRR6498088\tSRR6498089\tSRR6498090\tSRR6498091\n",
      "381ef540eb92c538543f9bb5a323c2cc\t887.0\t11465.0\t1487.0\t0.0\t0.0\n",
      "6b6d13f1332283e053c18c3b7774b85c\t41.0\t27.0\t10137.0\t0.0\t37.0\n",
      "6251bd9ebf43fae466939ab366f6e547\t0.0\t0.0\t0.0\t6590.0\t1292.0\n",
      "32ab1812bd3770f4b7f6aad7273783da\t18.0\t7850.0\t0.0\t0.0\t0.0\n",
      "ffc36e27c82042664a16bcd4d380b286\t27.0\t33.0\t2220.0\t1942.0\t695.0\n"
     ]
    }
   ],
   "source": [
    "%cd ~/class/qiime2/output\n",
    "!biom head -i feature-table.biom"
   ]
  },
  {
   "cell_type": "code",
   "execution_count": 4,
   "id": "af8398a2-b7ed-49e7-9eb9-d8e44be7122c",
   "metadata": {},
   "outputs": [
    {
     "name": "stdout",
     "output_type": "stream",
     "text": [
      "/home/c00cjz00wsi/class/qiime2/output\n",
      "\u001b[32mExported rep-seqs-dada2.qza as DNASequencesDirectoryFormat to directory ./\u001b[0m\n",
      "\u001b[0m"
     ]
    }
   ],
   "source": [
    "%cd ~/class/qiime2/output\n",
    "!qiime tools export \\\n",
    "  --input-path rep-seqs-dada2.qza \\\n",
    "  --output-path ./"
   ]
  },
  {
   "cell_type": "code",
   "execution_count": 5,
   "id": "ffefbe43-7cf2-4f05-a0bd-eb29b8e3926b",
   "metadata": {},
   "outputs": [
    {
     "name": "stdout",
     "output_type": "stream",
     "text": [
      "/home/c00cjz00wsi/class/qiime2/output\n",
      ">381ef540eb92c538543f9bb5a323c2cc\n",
      "TGGGGAATTTTGGACAATGGGGGCAACCCTGATCCAGCCATGCCGCGTGCGGGAAGAAGGCCTTCGGGTTGTAAACCGCTTTTGTCAGGGACGAAAAGGTGCGGGTTAAGAGCTAGCACTGATGACGGTACCTGAAGAATAAGCACCGGCTAACTACGTGCCAGCAGCCGCGGTAATACGTAGGGTGCGAGCGTTAATCGGAATTACTGGGCGTAAAGCGTGCGCAGGCGGTTGGGTAAGACAGATGTGAAATCCCCGGGCTTAACCTGGGAACTGCATTTGTGACTGTCCGACTGGAGTATGTCAGAGGGGGGTGGAATTCCAAGTGTAGCAGTGAAATGCGTAGATATTTGGAAGAACACCGATGGCGAAGGCAGCCCCCTGGGGCAAAACTGACGCTCATGCACGAAAGCGTGGGGAGCAAACA\n",
      ">6b6d13f1332283e053c18c3b7774b85c\n",
      "TGAGGAATATTGGTCAATGGACGAGAGTCTGAACCAGCCAAGTAGCGTGCAGGATGACGGCCCTATGGGTTGTAAACTGCTTTTATAAGGGAATAAAGTGAGTCTCGTGAGACTTTTTGCATGTACCTTATGAATAAGGACCGGCTAATTCCGTGCCAGCAGCCGCGGTAATACGGAAGGTCCGGGCGTTATCCGGATTTATTGGGTTTAAAGGGAGCGTAGGCCGGAGATTAAGCGTGTTGTGAAATGTAGACGCTCAACGTCTGCACTGCAGCGCGAACTGGTTTCCTTGAGTACGCACAAAGTGGGCGGAATTCGTGGTGTAGCGGTGAAATGCTTAGATATCACGAAGAACTCCGATTGCGAAGGCAGCTCACTGGAGCGCAACTGACGCTGAAGCTCGAAAGTGCGGGTATCGAACA\n",
      ">6251bd9ebf43fae466939ab366f6e547\n",
      "TGAGGAATATTGGTCAATGGGCGAGAGCCTGAACCAGCCAAGTAGCGTGAAGGATGACTGCCCTATGGGTTGTAAACTTCTTTTATAAAGGAATAAAGTCGGGTATGCATACCCGTTTGCATGTACTTTATGAATAAGGATCGGCTAACTCCGTGCCAGCAGCCGCGGTAATACGGAGGATCCGAGCGTTATCCGGATTTATTGGGTTTAAAGGGAGCGTAGATGGATGTTTAAGTCAGTTGTGAAAGTTTGCGGCTCAACCGTAAAATTGCAGTTGATACTGGATATCTTGAGTGCAGTTGAGGCAGGCGGAATTCGTGGTGTAGCGGTGAAATGCTTAGATATCACGAAGAACTCCGATTGCGAAGGCAGCCTGCTAAGCTGCAACTGACATTGAGGCTCGAAAGTGTGGGTATCAAACA\n",
      ">32ab1812bd3770f4b7f6aad7273783da\n",
      "TGGGGAATATTGCACAATGGGCGCAAGCCTGATGCAGCCATGCCGCGTGTATGAAGAAGGCCTTCGGGTTGTAAAGTACTTTCAGCGGGGAGGAAGGTGTTGAGGTTAATAACCTCAGCAATTGACGTTACCCGCAGAAGAAGCACCGGCTAACTCCGTGCCAGCAGCCGCGGTAATACGGAGGGTGCAAGCGTTAATCGGAATTACTGGGCGTAAAGCGCACGCAGGCGGTCTGTCAAGTCGGATGTGAAATCCCCGGGCTCAACCTGGGAACTGCATTCGAAACTGGCAGGCTAGAGTCTTGTAGAGGGGGGTAGAATTCCAGGTGTAGCGGTGAAATGCGTAGAGATCTGGAGGAATACCGGTGGCGAAGGCGGCCCCCTGGACAAAGACTGACGCTCAGGTGCGAAAGCGTGGGGAGCAAACA\n",
      ">ffc36e27c82042664a16bcd4d380b286\n",
      "TGGGGAATATTGCACAATGGGCGCAAGCCTGATGCAGCCATGCCGCGTGTATGAAGAAGGCCTTCGGGTTGTAAAGTACTTTCAGCGGGGAGGAAGGGAGTAAAGTTAATACCTTTGCTCATTGACGTTACCCGCAGAAGAAGCACCGGCTAACTCCGTGCCAGCAGCCGCGGTAATACGGAGGGTGCAAGCGTTAATCGGAATTACTGGGCGTAAAGCGCACGCAGGCGGTTTGTTAAGTCAGATGTGAAATCCCCGGGCTCAACCTGGGAACTGCATCTGATACTGGCAAGCTTGAGTCTCGTAGAGGGGGGTAGAATTCCAGGTGTAGCGGTGAAATGCGTAGAGATCTGGAGGAATACCGGTGGCGAAGGCGGCCCCCTGGACGAAGACTGACGCTCAGGTGCGAAAGCGTGGGGAGCAAACA\n"
     ]
    }
   ],
   "source": [
    "%cd ~/class/qiime2/output\n",
    "!head -n 10 dna-sequences.fasta"
   ]
  },
  {
   "cell_type": "code",
   "execution_count": null,
   "id": "623210ed-6c8d-4daf-a8cb-4d3c360bf2b5",
   "metadata": {},
   "outputs": [],
   "source": []
  }
 ],
 "metadata": {
  "kernelspec": {
   "display_name": "Image_qiime2_2023.2",
   "language": "python",
   "name": "image_qiime2_2023.2"
  },
  "language_info": {
   "codemirror_mode": {
    "name": "ipython",
    "version": 3
   },
   "file_extension": ".py",
   "mimetype": "text/x-python",
   "name": "python",
   "nbconvert_exporter": "python",
   "pygments_lexer": "ipython3",
   "version": "3.8.15"
  }
 },
 "nbformat": 4,
 "nbformat_minor": 5
}
