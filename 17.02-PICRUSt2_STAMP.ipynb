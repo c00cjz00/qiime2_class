{
 "cells": [
  {
   "cell_type": "code",
   "execution_count": 1,
   "id": "a4d7389c-c1a9-49bf-a469-d75dd2e893d7",
   "metadata": {},
   "outputs": [
    {
     "name": "stdout",
     "output_type": "stream",
     "text": [
      "/work/c00cjz00wsi/my_container/.package_picrust2.sif/envs/picrust2.sif\n",
      "/work/c00cjz00wsi/my_container/.package_picrust2.sif/envs/picrust2.sif/bin:/usr/local/sbin:/usr/local/bin:/usr/sbin:/usr/bin:/sbin:/bin\n",
      "['/work/c00cjz00wsi/my_container/.package_picrust2.sif/envs/picrust2.sif/lib/python3.9/site-packages', '/work/c00cjz002/share/miniconda3/lib/python3.9/site-packages', '/work/c00cjz002/share/miniconda3/lib/python3.9/site-packages/IPython/extensions', '/home/c00cjz00wsi/class/qiime2', '/work/c00cjz002/share/miniconda3/lib/python39.zip', '/work/c00cjz002/share/miniconda3/lib/python3.9', '/work/c00cjz002/share/miniconda3/lib/python3.9/lib-dynload', '', '/home/c00cjz00wsi/.ipython']\n"
     ]
    }
   ],
   "source": [
    "# 此映像檔套件位置\n",
    "import os, sys, sysconfig\n",
    "site_packages_path=(sysconfig.get_paths()[\"purelib\"])\n",
    "dirname=os.path.dirname(site_packages_path)\n",
    "python_basename=os.path.basename(dirname)\n",
    "# 更換PIP安裝位置\n",
    "if \"SINGULARITY_NAME\" in os.environ:\n",
    "  #kernel_name = os.path.basename(sys.executable.replace(\"/bin/python\",\"\"))\n",
    "  kernel_name = os.environ['SINGULARITY_NAME']\n",
    "  #os.environ['PYTHONUSERBASE']=os.environ['HOME']+'/.slurm_jupyter/pip_'+kernel_name\n",
    "  os.environ['PYTHONUSERBASE']='/work/'+os.path.basename(os.environ['HOME'])+'/my_container/.package_'+kernel_name+'/envs/'+kernel_name\n",
    "# 新增 Binarry 位置\n",
    "Add_Binarry_Path=os.environ['PYTHONUSERBASE']+'/bin'\n",
    "os.environ['PATH']=Add_Binarry_Path+\":\"+os.environ['PATH']\n",
    "# 更換library位置\n",
    "sys_path_add=os.environ['PYTHONUSERBASE']+'/lib/'+python_basename+'/site-packages'\n",
    "if sys_path_add in sys.path:\n",
    "  print(\"not add\")\n",
    "else:\n",
    "  sys.path.insert(0, sys_path_add)\n",
    "# 更換排序\n",
    "sys.path = sorted(sys.path, key=lambda x: x.startswith(site_packages_path), reverse=True)\n",
    "sys.path = sorted(sys.path, key=lambda x: x.startswith(sys_path_add), reverse=True)\n",
    "\n",
    "os.environ['XDG_CONFIG_HOME']=os.environ['HOME']\n",
    "# 印出結果\n",
    "print(os.environ['PYTHONUSERBASE'])\n",
    "print(os.environ['PATH'])\n",
    "print(sys.path)"
   ]
  },
  {
   "cell_type": "code",
   "execution_count": 2,
   "id": "a61f915f-2b67-4c7c-9c40-eefbb521f425",
   "metadata": {},
   "outputs": [
    {
     "name": "stdout",
     "output_type": "stream",
     "text": [
      "/home/c00cjz00wsi/class/qiime2/output\n",
      "Warning - 30 input sequences aligned poorly to reference sequences (--min_align option specified a minimum proportion of 0.8 aligning to reference sequences). These input sequences will not be placed and will be excluded from downstream steps.\n",
      "\n",
      "This is the set of poorly aligned input sequences to be excluded: 8ec05512c8c6b5c2af1f53fccd4c1ae8, d4abeebed9d7994d3fc9e5514029d419, c0fa377eb1d94e9ce3897f1d3052d2f9, 12e76bc08104a84658cdc8ab9b8f2e53, 668122fc619247629f9f81ff86f118b6, 41cc9d9dc069720a463b2d90894b8264, 321c709659afea1ae11de906bd39f044, 29486e2479ac17043c7ff171dd9f7754, 05ba73a22c6aaea45f1945a80f1c905e, 72d586f2d241ce861ffc0fbcc5cb9ab1, 479254d9ef8ac414ec86cb53a72e1eac, 1fc1a993dc9ecefdb3bed55de0f3c0df, 57e15482725e8b3f8e32fe266a133dad, 91a7b4ecd06f7c58af9f7495e4d95c46, b228e20616a0a4c9165abf62df11eea5, 1bccf36c80a705185a2bfd33900e917f, fa4b665feb57bf0f07e379c147fe8497, 38d8a32ebd53ed2a523d45d314b4a582, 16bd64e32f416d09a92160d48ec69b7c, 5037f282454aff0ef61408e43dc87947, 22e4f929f4d54faaa4c6608b3a77df53, 83b8af91225806e27b77ca6268182509, dc5bdeaf80d0689436b363709599a175, 64bb9a42bfb2e8556a8c07eb5e2373a0, 9aafd735a598021ce8dc122bb33a519c, 771ee9fa55ce13c9e380a59be4e766ee, d67a732550c7f6ac2234888932618bf7, 3df5973daad32dbefd5aff2660eeb4ff, 7cd7535a332e27df82f37c39215026ee, 5fc549169735c26180de0664286384cc\n",
      "\n",
      "\n",
      "\n",
      "\n",
      "\n",
      "2 of 732 ASVs were above the max NSTI cut-off of 2.0 and were removed from the downstream analyses.\n",
      "\n",
      "2 of 732 ASVs were above the max NSTI cut-off of 2.0 and were removed from the downstream analyses.\n",
      "\n",
      "\n"
     ]
    }
   ],
   "source": [
    "%cd ~/class/qiime2/output\n",
    "!picrust2_pipeline.py \\\n",
    "  -s dna-sequences.fasta \\\n",
    "  -i feature-table.biom \\\n",
    "  -o picrust2_out_pipeline \\\n",
    "  -p 12"
   ]
  },
  {
   "cell_type": "code",
   "execution_count": 3,
   "id": "396d7d84-b460-4b27-80c9-0c2a77249b06",
   "metadata": {},
   "outputs": [
    {
     "name": "stdout",
     "output_type": "stream",
     "text": [
      "/home/c00cjz00wsi/class/qiime2/output/picrust2_out_pipeline\n"
     ]
    }
   ],
   "source": [
    "%cd ~/class/qiime2/output/picrust2_out_pipeline \n",
    "!add_descriptions.py \\\n",
    "  -i EC_metagenome_out/pred_metagenome_unstrat.tsv.gz \\\n",
    "  -m EC \\\n",
    "  -o EC_metagenome_out/pred_metagenome_unstrat_descrip.tsv.gz"
   ]
  },
  {
   "cell_type": "code",
   "execution_count": 4,
   "id": "6f299220-c400-463a-be8b-1e8b0eae0802",
   "metadata": {},
   "outputs": [
    {
     "name": "stdout",
     "output_type": "stream",
     "text": [
      "/home/c00cjz00wsi/class/qiime2/output/picrust2_out_pipeline\n"
     ]
    }
   ],
   "source": [
    "%cd ~/class/qiime2/output/picrust2_out_pipeline \n",
    "!add_descriptions.py \\\n",
    "-i KO_metagenome_out/pred_metagenome_unstrat.tsv.gz \\\n",
    "-m KO \\\n",
    "-o KO_metagenome_out/pred_metagenome_unstrat_descrip.tsv.gz"
   ]
  },
  {
   "cell_type": "code",
   "execution_count": 5,
   "id": "892e6e2a-eb31-4f90-bd45-22690fcdd3a8",
   "metadata": {},
   "outputs": [
    {
     "name": "stdout",
     "output_type": "stream",
     "text": [
      "/home/c00cjz00wsi/class/qiime2/output/picrust2_out_pipeline\n"
     ]
    }
   ],
   "source": [
    "%cd ~/class/qiime2/output/picrust2_out_pipeline \n",
    "!add_descriptions.py \\\n",
    "  -i pathways_out/path_abun_unstrat.tsv.gz \\\n",
    "  -m METACYC \\\n",
    "  -o pathways_out/path_abun_unstrat_descrip.tsv.gz"
   ]
  },
  {
   "cell_type": "markdown",
   "id": "457ea753-0c91-4c6b-830a-e64a6e74e891",
   "metadata": {},
   "source": [
    "## STAMP"
   ]
  },
  {
   "cell_type": "code",
   "execution_count": 6,
   "id": "2b6cf011-053d-407e-bfcc-86c075f6e386",
   "metadata": {},
   "outputs": [
    {
     "name": "stdout",
     "output_type": "stream",
     "text": [
      "/home/c00cjz00wsi/class/qiime2\n"
     ]
    }
   ],
   "source": [
    "%cd ~/class/qiime2\n",
    "!gunzip output/picrust2_out_pipeline/EC_metagenome_out/pred_metagenome_unstrat_descrip.tsv.gz"
   ]
  },
  {
   "cell_type": "code",
   "execution_count": 7,
   "id": "fd2be9a5-e175-4620-b64b-a81e68f991f8",
   "metadata": {},
   "outputs": [
    {
     "name": "stdout",
     "output_type": "stream",
     "text": [
      "/home/c00cjz00wsi/class/qiime2\n"
     ]
    }
   ],
   "source": [
    "%cd ~/class/qiime2\n",
    "# Import pandas\n",
    "import pandas as pd\n",
    "# Read TSV file into DataFrame\n",
    "df = pd.read_table('output/picrust2_out_pipeline/EC_metagenome_out/pred_metagenome_unstrat_descrip.tsv')"
   ]
  },
  {
   "cell_type": "code",
   "execution_count": 8,
   "id": "d6e21af0-5355-43d4-acf9-bcc4e95e315f",
   "metadata": {},
   "outputs": [
    {
     "data": {
      "text/html": [
       "<div>\n",
       "<style scoped>\n",
       "    .dataframe tbody tr th:only-of-type {\n",
       "        vertical-align: middle;\n",
       "    }\n",
       "\n",
       "    .dataframe tbody tr th {\n",
       "        vertical-align: top;\n",
       "    }\n",
       "\n",
       "    .dataframe thead th {\n",
       "        text-align: right;\n",
       "    }\n",
       "</style>\n",
       "<table border=\"1\" class=\"dataframe\">\n",
       "  <thead>\n",
       "    <tr style=\"text-align: right;\">\n",
       "      <th></th>\n",
       "      <th>function</th>\n",
       "      <th>description</th>\n",
       "      <th>SRR6498087</th>\n",
       "      <th>SRR6498088</th>\n",
       "      <th>SRR6498089</th>\n",
       "      <th>SRR6498090</th>\n",
       "      <th>SRR6498091</th>\n",
       "      <th>SRR6498092</th>\n",
       "    </tr>\n",
       "  </thead>\n",
       "  <tbody>\n",
       "    <tr>\n",
       "      <th>0</th>\n",
       "      <td>EC:1.1.1.1</td>\n",
       "      <td>Alcohol dehydrogenase</td>\n",
       "      <td>25499.72</td>\n",
       "      <td>23304.39</td>\n",
       "      <td>38119.36</td>\n",
       "      <td>27583.34</td>\n",
       "      <td>11871.01</td>\n",
       "      <td>28665.11</td>\n",
       "    </tr>\n",
       "    <tr>\n",
       "      <th>1</th>\n",
       "      <td>EC:1.1.1.100</td>\n",
       "      <td>3-oxoacyl-[acyl-carrier-protein] reductase</td>\n",
       "      <td>55064.96</td>\n",
       "      <td>29808.16</td>\n",
       "      <td>72553.15</td>\n",
       "      <td>55875.85</td>\n",
       "      <td>31739.76</td>\n",
       "      <td>52378.45</td>\n",
       "    </tr>\n",
       "    <tr>\n",
       "      <th>2</th>\n",
       "      <td>EC:1.1.1.103</td>\n",
       "      <td>L-threonine 3-dehydrogenase</td>\n",
       "      <td>2070.46</td>\n",
       "      <td>2776.68</td>\n",
       "      <td>1715.39</td>\n",
       "      <td>2612.13</td>\n",
       "      <td>577.80</td>\n",
       "      <td>1436.76</td>\n",
       "    </tr>\n",
       "    <tr>\n",
       "      <th>3</th>\n",
       "      <td>EC:1.1.1.105</td>\n",
       "      <td>All-trans-retinol dehydrogenase (NAD(+))</td>\n",
       "      <td>0.00</td>\n",
       "      <td>0.00</td>\n",
       "      <td>0.00</td>\n",
       "      <td>106.00</td>\n",
       "      <td>0.00</td>\n",
       "      <td>0.00</td>\n",
       "    </tr>\n",
       "    <tr>\n",
       "      <th>4</th>\n",
       "      <td>EC:1.1.1.108</td>\n",
       "      <td>Carnitine 3-dehydrogenase</td>\n",
       "      <td>273.00</td>\n",
       "      <td>67.00</td>\n",
       "      <td>105.00</td>\n",
       "      <td>2167.40</td>\n",
       "      <td>386.20</td>\n",
       "      <td>84.00</td>\n",
       "    </tr>\n",
       "    <tr>\n",
       "      <th>...</th>\n",
       "      <td>...</td>\n",
       "      <td>...</td>\n",
       "      <td>...</td>\n",
       "      <td>...</td>\n",
       "      <td>...</td>\n",
       "      <td>...</td>\n",
       "      <td>...</td>\n",
       "      <td>...</td>\n",
       "    </tr>\n",
       "    <tr>\n",
       "      <th>2099</th>\n",
       "      <td>EC:6.5.1.5</td>\n",
       "      <td>RNA 3'-terminal-phosphate cyclase (GTP)</td>\n",
       "      <td>57.00</td>\n",
       "      <td>0.00</td>\n",
       "      <td>0.00</td>\n",
       "      <td>0.00</td>\n",
       "      <td>0.00</td>\n",
       "      <td>61.00</td>\n",
       "    </tr>\n",
       "    <tr>\n",
       "      <th>2100</th>\n",
       "      <td>EC:6.5.1.6</td>\n",
       "      <td>DNA ligase (ATP or NAD(+))</td>\n",
       "      <td>112.43</td>\n",
       "      <td>106.00</td>\n",
       "      <td>16.00</td>\n",
       "      <td>4316.44</td>\n",
       "      <td>153.00</td>\n",
       "      <td>606.00</td>\n",
       "    </tr>\n",
       "    <tr>\n",
       "      <th>2101</th>\n",
       "      <td>EC:6.5.1.7</td>\n",
       "      <td>DNA ligase (ATP, ADP or GTP)</td>\n",
       "      <td>112.43</td>\n",
       "      <td>106.00</td>\n",
       "      <td>16.00</td>\n",
       "      <td>4316.44</td>\n",
       "      <td>153.00</td>\n",
       "      <td>606.00</td>\n",
       "    </tr>\n",
       "    <tr>\n",
       "      <th>2102</th>\n",
       "      <td>EC:6.6.1.1</td>\n",
       "      <td>Magnesium chelatase</td>\n",
       "      <td>1559.00</td>\n",
       "      <td>80.66</td>\n",
       "      <td>2568.66</td>\n",
       "      <td>4378.69</td>\n",
       "      <td>1562.20</td>\n",
       "      <td>1510.00</td>\n",
       "    </tr>\n",
       "    <tr>\n",
       "      <th>2103</th>\n",
       "      <td>EC:6.6.1.2</td>\n",
       "      <td>Cobaltochelatase</td>\n",
       "      <td>3411.47</td>\n",
       "      <td>171.68</td>\n",
       "      <td>1163.83</td>\n",
       "      <td>13613.77</td>\n",
       "      <td>12319.69</td>\n",
       "      <td>5845.95</td>\n",
       "    </tr>\n",
       "  </tbody>\n",
       "</table>\n",
       "<p>2104 rows × 8 columns</p>\n",
       "</div>"
      ],
      "text/plain": [
       "          function                                 description  SRR6498087   \n",
       "0       EC:1.1.1.1                       Alcohol dehydrogenase    25499.72  \\\n",
       "1     EC:1.1.1.100  3-oxoacyl-[acyl-carrier-protein] reductase    55064.96   \n",
       "2     EC:1.1.1.103                 L-threonine 3-dehydrogenase     2070.46   \n",
       "3     EC:1.1.1.105    All-trans-retinol dehydrogenase (NAD(+))        0.00   \n",
       "4     EC:1.1.1.108                   Carnitine 3-dehydrogenase      273.00   \n",
       "...            ...                                         ...         ...   \n",
       "2099    EC:6.5.1.5     RNA 3'-terminal-phosphate cyclase (GTP)       57.00   \n",
       "2100    EC:6.5.1.6                  DNA ligase (ATP or NAD(+))      112.43   \n",
       "2101    EC:6.5.1.7                DNA ligase (ATP, ADP or GTP)      112.43   \n",
       "2102    EC:6.6.1.1                         Magnesium chelatase     1559.00   \n",
       "2103    EC:6.6.1.2                            Cobaltochelatase     3411.47   \n",
       "\n",
       "      SRR6498088  SRR6498089  SRR6498090  SRR6498091  SRR6498092  \n",
       "0       23304.39    38119.36    27583.34    11871.01    28665.11  \n",
       "1       29808.16    72553.15    55875.85    31739.76    52378.45  \n",
       "2        2776.68     1715.39     2612.13      577.80     1436.76  \n",
       "3           0.00        0.00      106.00        0.00        0.00  \n",
       "4          67.00      105.00     2167.40      386.20       84.00  \n",
       "...          ...         ...         ...         ...         ...  \n",
       "2099        0.00        0.00        0.00        0.00       61.00  \n",
       "2100      106.00       16.00     4316.44      153.00      606.00  \n",
       "2101      106.00       16.00     4316.44      153.00      606.00  \n",
       "2102       80.66     2568.66     4378.69     1562.20     1510.00  \n",
       "2103      171.68     1163.83    13613.77    12319.69     5845.95  \n",
       "\n",
       "[2104 rows x 8 columns]"
      ]
     },
     "execution_count": 8,
     "metadata": {},
     "output_type": "execute_result"
    }
   ],
   "source": [
    "df"
   ]
  },
  {
   "cell_type": "code",
   "execution_count": 9,
   "id": "cde66639-f676-45f6-8164-d3661439366a",
   "metadata": {},
   "outputs": [],
   "source": [
    "df = df.drop('function', axis=1)"
   ]
  },
  {
   "cell_type": "code",
   "execution_count": 10,
   "id": "0ef5fbcf-5e05-4f19-806e-17c90f496367",
   "metadata": {},
   "outputs": [
    {
     "data": {
      "text/html": [
       "<div>\n",
       "<style scoped>\n",
       "    .dataframe tbody tr th:only-of-type {\n",
       "        vertical-align: middle;\n",
       "    }\n",
       "\n",
       "    .dataframe tbody tr th {\n",
       "        vertical-align: top;\n",
       "    }\n",
       "\n",
       "    .dataframe thead th {\n",
       "        text-align: right;\n",
       "    }\n",
       "</style>\n",
       "<table border=\"1\" class=\"dataframe\">\n",
       "  <thead>\n",
       "    <tr style=\"text-align: right;\">\n",
       "      <th></th>\n",
       "      <th>description</th>\n",
       "      <th>SRR6498087</th>\n",
       "      <th>SRR6498088</th>\n",
       "      <th>SRR6498089</th>\n",
       "      <th>SRR6498090</th>\n",
       "      <th>SRR6498091</th>\n",
       "      <th>SRR6498092</th>\n",
       "    </tr>\n",
       "  </thead>\n",
       "  <tbody>\n",
       "    <tr>\n",
       "      <th>0</th>\n",
       "      <td>Alcohol dehydrogenase</td>\n",
       "      <td>25499.72</td>\n",
       "      <td>23304.39</td>\n",
       "      <td>38119.36</td>\n",
       "      <td>27583.34</td>\n",
       "      <td>11871.01</td>\n",
       "      <td>28665.11</td>\n",
       "    </tr>\n",
       "    <tr>\n",
       "      <th>1</th>\n",
       "      <td>3-oxoacyl-[acyl-carrier-protein] reductase</td>\n",
       "      <td>55064.96</td>\n",
       "      <td>29808.16</td>\n",
       "      <td>72553.15</td>\n",
       "      <td>55875.85</td>\n",
       "      <td>31739.76</td>\n",
       "      <td>52378.45</td>\n",
       "    </tr>\n",
       "    <tr>\n",
       "      <th>2</th>\n",
       "      <td>L-threonine 3-dehydrogenase</td>\n",
       "      <td>2070.46</td>\n",
       "      <td>2776.68</td>\n",
       "      <td>1715.39</td>\n",
       "      <td>2612.13</td>\n",
       "      <td>577.80</td>\n",
       "      <td>1436.76</td>\n",
       "    </tr>\n",
       "    <tr>\n",
       "      <th>3</th>\n",
       "      <td>All-trans-retinol dehydrogenase (NAD(+))</td>\n",
       "      <td>0.00</td>\n",
       "      <td>0.00</td>\n",
       "      <td>0.00</td>\n",
       "      <td>106.00</td>\n",
       "      <td>0.00</td>\n",
       "      <td>0.00</td>\n",
       "    </tr>\n",
       "    <tr>\n",
       "      <th>4</th>\n",
       "      <td>Carnitine 3-dehydrogenase</td>\n",
       "      <td>273.00</td>\n",
       "      <td>67.00</td>\n",
       "      <td>105.00</td>\n",
       "      <td>2167.40</td>\n",
       "      <td>386.20</td>\n",
       "      <td>84.00</td>\n",
       "    </tr>\n",
       "    <tr>\n",
       "      <th>...</th>\n",
       "      <td>...</td>\n",
       "      <td>...</td>\n",
       "      <td>...</td>\n",
       "      <td>...</td>\n",
       "      <td>...</td>\n",
       "      <td>...</td>\n",
       "      <td>...</td>\n",
       "    </tr>\n",
       "    <tr>\n",
       "      <th>2099</th>\n",
       "      <td>RNA 3'-terminal-phosphate cyclase (GTP)</td>\n",
       "      <td>57.00</td>\n",
       "      <td>0.00</td>\n",
       "      <td>0.00</td>\n",
       "      <td>0.00</td>\n",
       "      <td>0.00</td>\n",
       "      <td>61.00</td>\n",
       "    </tr>\n",
       "    <tr>\n",
       "      <th>2100</th>\n",
       "      <td>DNA ligase (ATP or NAD(+))</td>\n",
       "      <td>112.43</td>\n",
       "      <td>106.00</td>\n",
       "      <td>16.00</td>\n",
       "      <td>4316.44</td>\n",
       "      <td>153.00</td>\n",
       "      <td>606.00</td>\n",
       "    </tr>\n",
       "    <tr>\n",
       "      <th>2101</th>\n",
       "      <td>DNA ligase (ATP, ADP or GTP)</td>\n",
       "      <td>112.43</td>\n",
       "      <td>106.00</td>\n",
       "      <td>16.00</td>\n",
       "      <td>4316.44</td>\n",
       "      <td>153.00</td>\n",
       "      <td>606.00</td>\n",
       "    </tr>\n",
       "    <tr>\n",
       "      <th>2102</th>\n",
       "      <td>Magnesium chelatase</td>\n",
       "      <td>1559.00</td>\n",
       "      <td>80.66</td>\n",
       "      <td>2568.66</td>\n",
       "      <td>4378.69</td>\n",
       "      <td>1562.20</td>\n",
       "      <td>1510.00</td>\n",
       "    </tr>\n",
       "    <tr>\n",
       "      <th>2103</th>\n",
       "      <td>Cobaltochelatase</td>\n",
       "      <td>3411.47</td>\n",
       "      <td>171.68</td>\n",
       "      <td>1163.83</td>\n",
       "      <td>13613.77</td>\n",
       "      <td>12319.69</td>\n",
       "      <td>5845.95</td>\n",
       "    </tr>\n",
       "  </tbody>\n",
       "</table>\n",
       "<p>2104 rows × 7 columns</p>\n",
       "</div>"
      ],
      "text/plain": [
       "                                     description  SRR6498087  SRR6498088   \n",
       "0                          Alcohol dehydrogenase    25499.72    23304.39  \\\n",
       "1     3-oxoacyl-[acyl-carrier-protein] reductase    55064.96    29808.16   \n",
       "2                    L-threonine 3-dehydrogenase     2070.46     2776.68   \n",
       "3       All-trans-retinol dehydrogenase (NAD(+))        0.00        0.00   \n",
       "4                      Carnitine 3-dehydrogenase      273.00       67.00   \n",
       "...                                          ...         ...         ...   \n",
       "2099     RNA 3'-terminal-phosphate cyclase (GTP)       57.00        0.00   \n",
       "2100                  DNA ligase (ATP or NAD(+))      112.43      106.00   \n",
       "2101                DNA ligase (ATP, ADP or GTP)      112.43      106.00   \n",
       "2102                         Magnesium chelatase     1559.00       80.66   \n",
       "2103                            Cobaltochelatase     3411.47      171.68   \n",
       "\n",
       "      SRR6498089  SRR6498090  SRR6498091  SRR6498092  \n",
       "0       38119.36    27583.34    11871.01    28665.11  \n",
       "1       72553.15    55875.85    31739.76    52378.45  \n",
       "2        1715.39     2612.13      577.80     1436.76  \n",
       "3           0.00      106.00        0.00        0.00  \n",
       "4         105.00     2167.40      386.20       84.00  \n",
       "...          ...         ...         ...         ...  \n",
       "2099        0.00        0.00        0.00       61.00  \n",
       "2100       16.00     4316.44      153.00      606.00  \n",
       "2101       16.00     4316.44      153.00      606.00  \n",
       "2102     2568.66     4378.69     1562.20     1510.00  \n",
       "2103     1163.83    13613.77    12319.69     5845.95  \n",
       "\n",
       "[2104 rows x 7 columns]"
      ]
     },
     "execution_count": 10,
     "metadata": {},
     "output_type": "execute_result"
    }
   ],
   "source": [
    "df"
   ]
  },
  {
   "cell_type": "code",
   "execution_count": 11,
   "id": "0e42cf9f-b03d-4432-962f-7f7b16cf336c",
   "metadata": {},
   "outputs": [
    {
     "name": "stdout",
     "output_type": "stream",
     "text": [
      "/home/c00cjz00wsi/class/qiime2\n"
     ]
    }
   ],
   "source": [
    "%cd ~/class/qiime2\n",
    "df.to_csv('output/picrust2_out_pipeline/EC_metagenome_out/pred_metagenome_unstrat_descrip_fix.tsv', sep=\"\\t\",index=False)"
   ]
  },
  {
   "cell_type": "code",
   "execution_count": null,
   "id": "623210ed-6c8d-4daf-a8cb-4d3c360bf2b5",
   "metadata": {},
   "outputs": [],
   "source": []
  }
 ],
 "metadata": {
  "kernelspec": {
   "display_name": "Image_picrust2",
   "language": "python",
   "name": "image_picrust2"
  },
  "language_info": {
   "codemirror_mode": {
    "name": "ipython",
    "version": 3
   },
   "file_extension": ".py",
   "mimetype": "text/x-python",
   "name": "python",
   "nbconvert_exporter": "python",
   "pygments_lexer": "ipython3",
   "version": "3.9.5"
  }
 },
 "nbformat": 4,
 "nbformat_minor": 5
}
