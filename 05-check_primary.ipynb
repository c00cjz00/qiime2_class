{
 "cells": [
  {
   "cell_type": "code",
   "execution_count": null,
   "id": "a5f1c29b-3a21-4e54-9851-5c7ccff5af06",
   "metadata": {},
   "outputs": [],
   "source": [
    "%%bash\n",
    "#searching for primers\n",
    "cd ~/work/class\n",
    "#!zcat ./data/KDN1.5_S1_L001_R1_001.fastq.gz | head\n",
    "zcat ./data/KDN1.5_S1_L001_R1_001.fastq.gz | grep ^@M03388| cut -d \":\" -f1 | wc -l\n",
    "zcat ./data/KDN1.5_S1_L001_R2_001.fastq.gz | grep ^@M03388| cut -d \":\" -f1 | wc -l\n",
    "zgrep '^CCTACGGG.GGC.GCAG' ./data/KDN1.5_S1_L001_R1_001.fastq.gz | wc -l\n",
    "zgrep '^GACTAC..GGGTATCTAATCC' ./data/KDN1.5_S1_L001_R2_001.fastq.gz | wc -l"
   ]
  },
  {
   "cell_type": "code",
   "execution_count": null,
   "id": "459d1b8f-f568-4e25-98b1-b9ed147682c4",
   "metadata": {},
   "outputs": [],
   "source": [
    "%cd ~/class/qiime2/fastq\n",
    "!zcat SRR6498087_S1_L001_R1_001.fastq.gz | head "
   ]
  },
  {
   "cell_type": "code",
   "execution_count": null,
   "id": "8d64ae2a-3d4f-4675-92bd-79e5e5edc69d",
   "metadata": {},
   "outputs": [],
   "source": [
    "%cd ~/class/qiime2/fastq\n",
    "!zcat SRR6498087_S1_L001_R2_001.fastq.gz | head "
   ]
  },
  {
   "cell_type": "code",
   "execution_count": null,
   "id": "559014a7-07ed-4dec-bd98-0727b04cc47d",
   "metadata": {},
   "outputs": [],
   "source": [
    "%cd ~/class/qiime2/fastq\n",
    "!zcat SRR6498087_S1_L001_R1_001.fastq.gz | grep ^@SRR6498087 | cut -d \":\" -f1 | wc -l\n",
    "!zcat SRR6498087_S1_L001_R2_001.fastq.gz | grep ^@SRR6498087 | cut -d \":\" -f1 | wc -l"
   ]
  },
  {
   "cell_type": "markdown",
   "id": "e37b0fd1-38e5-42d4-9a79-75adf6eaae7c",
   "metadata": {},
   "source": [
    "### 利用細菌 16S rRNA 基因 V3− V4 區域通用引子對 341F (CCTACGGGAGGCAGCAG)/805R (GACTACHVGGGTATCTAATCC) 進行增幅反應\n",
    "1. 805-341=464\n",
    "2. L+4 (17), R+5+2 (21)\n",
    "3. trim L 21  trim R 26 ; trucate L 245; trucate R 235  \n",
    "4. cut primary, trucate L 225; trucate R 215  "
   ]
  },
  {
   "cell_type": "code",
   "execution_count": null,
   "id": "3c00a2a2-11f1-45b1-9cda-315041f170ff",
   "metadata": {},
   "outputs": [],
   "source": [
    "%cd ~/class/qiime2/fastq\n",
    "!zgrep '^CCTACGGG.GGC.GCAG' SRR6498087_S1_L001_R1_001.fastq.gz | wc -l\n",
    "!zgrep 'CCTACGGG.GGC.GCAG' SRR6498087_S1_L001_R1_001.fastq.gz | wc -l\n",
    "!zgrep '^GACTAC..GGGTATCTAATCC' SRR6498087_S1_L001_R2_001.fastq.gz | wc -l\n",
    "!zgrep 'GACTAC..GGGTATCTAATCC' SRR6498087_S1_L001_R2_001.fastq.gz | wc -l"
   ]
  },
  {
   "cell_type": "code",
   "execution_count": null,
   "id": "b3b13e0d-3975-465c-83a3-838c25e499bf",
   "metadata": {},
   "outputs": [],
   "source": []
  }
 ],
 "metadata": {
  "kernelspec": {
   "display_name": "SRA_toolkit",
   "language": "python",
   "name": "conda_sra_toolkit"
  },
  "language_info": {
   "codemirror_mode": {
    "name": "ipython",
    "version": 3
   },
   "file_extension": ".py",
   "mimetype": "text/x-python",
   "name": "python",
   "nbconvert_exporter": "python",
   "pygments_lexer": "ipython3",
   "version": "3.8.16"
  }
 },
 "nbformat": 4,
 "nbformat_minor": 5
}
