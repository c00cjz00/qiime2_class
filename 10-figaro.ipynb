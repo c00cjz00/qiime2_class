{
 "cells": [
  {
   "cell_type": "code",
   "execution_count": null,
   "id": "36f153fb-4225-4c90-8bf4-2e798a9c2f3f",
   "metadata": {},
   "outputs": [],
   "source": [
    "464-21-26+12"
   ]
  },
  {
   "cell_type": "code",
   "execution_count": 7,
   "id": "29d645ef-e3b0-493e-b769-e1f9adf81817",
   "metadata": {},
   "outputs": [
    {
     "name": "stdout",
     "output_type": "stream",
     "text": [
      "{\"trimPosition\": [240, 248], \"maxExpectedError\": [2, 3], \"readRetentionPercent\": 85.34, \"score\": 80.33535628335251}\n",
      "{\"trimPosition\": [238, 250], \"maxExpectedError\": [2, 3], \"readRetentionPercent\": 85.31, \"score\": 80.3135572529734}\n",
      "{\"trimPosition\": [239, 249], \"maxExpectedError\": [2, 3], \"readRetentionPercent\": 85.31, \"score\": 80.31181333054306}\n",
      "{\"trimPosition\": [241, 247], \"maxExpectedError\": [2, 3], \"readRetentionPercent\": 85.3, \"score\": 80.30134979596107}\n",
      "{\"trimPosition\": [250, 238], \"maxExpectedError\": [2, 2], \"readRetentionPercent\": 80.81, \"score\": 78.80813365421507}\n",
      "{\"trimPosition\": [237, 251], \"maxExpectedError\": [2, 3], \"readRetentionPercent\": 83.8, \"score\": 78.79547277737086}\n",
      "{\"trimPosition\": [249, 239], \"maxExpectedError\": [2, 2], \"readRetentionPercent\": 80.74, \"score\": 78.73576087335636}\n",
      "{\"trimPosition\": [248, 240], \"maxExpectedError\": [2, 2], \"readRetentionPercent\": 80.67, \"score\": 78.66861985978863}\n",
      "{\"trimPosition\": [247, 241], \"maxExpectedError\": [2, 2], \"readRetentionPercent\": 80.61, \"score\": 78.60758257472708}\n",
      "{\"trimPosition\": [246, 242], \"maxExpectedError\": [2, 2], \"readRetentionPercent\": 80.55, \"score\": 78.54654528966552}\n",
      "{\"trimPosition\": [245, 243], \"maxExpectedError\": [2, 2], \"readRetentionPercent\": 80.44, \"score\": 78.44452582749119}\n",
      "{\"trimPosition\": [244, 244], \"maxExpectedError\": [2, 2], \"readRetentionPercent\": 80.32, \"score\": 78.32245125736807}\n",
      "{\"trimPosition\": [243, 245], \"maxExpectedError\": [2, 2], \"readRetentionPercent\": 80.2, \"score\": 78.19950472602979}\n",
      "{\"trimPosition\": [242, 246], \"maxExpectedError\": [2, 2], \"readRetentionPercent\": 80.05, \"score\": 78.05214328066688}\n",
      "{\"trimPosition\": [251, 237], \"maxExpectedError\": [2, 2], \"readRetentionPercent\": 78.44, \"score\": 76.43639914896585}\n",
      "Run time: 0:00:26.105594\n"
     ]
    }
   ],
   "source": [
    "%%bash\n",
    "ml libs/singularity/3.7.1\n",
    "singularity exec \\\n",
    "--cleanenv \\\n",
    "-B /work \\\n",
    "/work/c00cjz00wsi/container_images/figaro.sif \\\n",
    "figaro.py \\\n",
    "-i ~/class/qiime2/fastq \\\n",
    "-o ~/class/qiime2/fastq \\\n",
    "-a 429 -f 21 -r 26 -m 12"
   ]
  },
  {
   "cell_type": "code",
   "execution_count": null,
   "id": "ebefe67b-ce7c-4079-be4f-f2c9df76fd8e",
   "metadata": {},
   "outputs": [],
   "source": [
    "464-17-21+12"
   ]
  },
  {
   "cell_type": "code",
   "execution_count": 1,
   "id": "735a32f0-2004-4d32-a499-e2d8a188dded",
   "metadata": {},
   "outputs": [
    {
     "name": "stdout",
     "output_type": "stream",
     "text": [
      "{\"trimPosition\": [240, 248], \"maxExpectedError\": [2, 3], \"readRetentionPercent\": 85.2, \"score\": 80.19933033378675}\n",
      "{\"trimPosition\": [239, 249], \"maxExpectedError\": [2, 3], \"readRetentionPercent\": 85.19, \"score\": 80.18886679920477}\n",
      "{\"trimPosition\": [238, 250], \"maxExpectedError\": [2, 3], \"readRetentionPercent\": 85.19, \"score\": 80.1879948379896}\n",
      "{\"trimPosition\": [241, 247], \"maxExpectedError\": [2, 3], \"readRetentionPercent\": 85.18, \"score\": 80.18189110948346}\n",
      "{\"trimPosition\": [242, 246], \"maxExpectedError\": [2, 3], \"readRetentionPercent\": 85.18, \"score\": 80.1757873809773}\n",
      "{\"trimPosition\": [250, 238], \"maxExpectedError\": [2, 2], \"readRetentionPercent\": 80.69, \"score\": 78.68954692895261}\n",
      "{\"trimPosition\": [237, 251], \"maxExpectedError\": [2, 3], \"readRetentionPercent\": 83.68, \"score\": 78.67775801332357}\n",
      "{\"trimPosition\": [249, 239], \"maxExpectedError\": [2, 2], \"readRetentionPercent\": 80.62, \"score\": 78.62327787660006}\n",
      "{\"trimPosition\": [248, 240], \"maxExpectedError\": [2, 2], \"readRetentionPercent\": 80.56, \"score\": 78.55788078546267}\n",
      "{\"trimPosition\": [247, 241], \"maxExpectedError\": [2, 2], \"readRetentionPercent\": 80.49, \"score\": 78.48637996581913}\n",
      "{\"trimPosition\": [246, 242], \"maxExpectedError\": [2, 2], \"readRetentionPercent\": 80.43, \"score\": 78.42970248683339}\n",
      "{\"trimPosition\": [245, 243], \"maxExpectedError\": [2, 2], \"readRetentionPercent\": 80.33, \"score\": 78.33117086951972}\n",
      "{\"trimPosition\": [244, 244], \"maxExpectedError\": [2, 2], \"readRetentionPercent\": 80.21, \"score\": 78.21084022182693}\n",
      "{\"trimPosition\": [243, 245], \"maxExpectedError\": [2, 2], \"readRetentionPercent\": 80.07, \"score\": 78.06958250497019}\n",
      "{\"trimPosition\": [251, 237], \"maxExpectedError\": [2, 2], \"readRetentionPercent\": 78.32, \"score\": 76.32304419099438}\n",
      "Run time: 0:00:26.804076\n"
     ]
    }
   ],
   "source": [
    "%%bash\n",
    "ml libs/singularity/3.7.1\n",
    "singularity exec \\\n",
    "--cleanenv \\\n",
    "-B /work \\\n",
    "/work/c00cjz00wsi/container_images/figaro.sif \\\n",
    "figaro.py \\\n",
    "-i ~/class/qiime2/fastq \\\n",
    "-o ~/class/qiime2/fastq \\\n",
    "-a 438 -f 17 -r 21 -m 12"
   ]
  },
  {
   "cell_type": "code",
   "execution_count": 2,
   "id": "616a5257-2671-4ff7-ae11-092fd2e08221",
   "metadata": {},
   "outputs": [],
   "source": [
    "# 此映像檔套件位置\n",
    "import os, sys, sysconfig\n",
    "site_packages_path=(sysconfig.get_paths()[\"purelib\"])\n",
    "dirname=os.path.dirname(site_packages_path)\n",
    "python_basename=os.path.basename(dirname)\n",
    "# 更換PIP安裝位置\n",
    "if \"SINGULARITY_NAME\" in os.environ:\n",
    "  #kernel_name = os.path.basename(sys.executable.replace(\"/bin/python\",\"\"))\n",
    "  kernel_name = os.environ['SINGULARITY_NAME']\n",
    "  #os.environ['PYTHONUSERBASE']=os.environ['HOME']+'/.slurm_jupyter/pip_'+kernel_name\n",
    "  os.environ['PYTHONUSERBASE']='/work/'+os.path.basename(os.environ['HOME'])+'/my_container/.package_'+kernel_name+'/envs/'+kernel_name\n",
    "# 新增 Binarry 位置\n",
    "Add_Binarry_Path=os.environ['PYTHONUSERBASE']+'/bin'\n",
    "os.environ['PATH']=Add_Binarry_Path+\":\"+os.environ['PATH']\n",
    "# 更換library位置\n",
    "sys_path_add=os.environ['PYTHONUSERBASE']+'/lib/'+python_basename+'/site-packages'\n",
    "if sys_path_add in sys.path:\n",
    "  print(\"not add\")\n",
    "else:\n",
    "  sys.path.insert(0, sys_path_add)\n",
    "# 更換排序\n",
    "sys.path = sorted(sys.path, key=lambda x: x.startswith(site_packages_path), reverse=True)\n",
    "sys.path = sorted(sys.path, key=lambda x: x.startswith(sys_path_add), reverse=True)\n",
    "\n",
    "os.environ['XDG_CONFIG_HOME']=os.environ['HOME']\n",
    "# 印出結果\n",
    "#print(os.environ['PYTHONUSERBASE'])\n",
    "#print(os.environ['PATH'])\n",
    "#print(sys.path)"
   ]
  },
  {
   "cell_type": "code",
   "execution_count": 3,
   "id": "85ec2878-6db7-4965-a7f7-89608d83ed1e",
   "metadata": {},
   "outputs": [
    {
     "name": "stdout",
     "output_type": "stream",
     "text": [
      "/home/c00cjz00wsi/class/qiime2/output\n",
      "\u001b[32mSaved FeatureTable[Frequency] to: table-dada2_2126_240248.qza\u001b[0m\n",
      "\u001b[32mSaved FeatureData[Sequence] to: rep-seqs-dada2_2126_240248.qza\u001b[0m\n",
      "\u001b[32mSaved SampleData[DADA2Stats] to: stats-dada2_2126_240248.qza\u001b[0m\n",
      "\u001b[0m"
     ]
    }
   ],
   "source": [
    "%cd ~/class/qiime2/output\n",
    "!qiime dada2 denoise-paired \\\n",
    "  --i-demultiplexed-seqs demux.qza \\\n",
    "  --p-trim-left-f 21 \\\n",
    "  --p-trim-left-r 26 \\\n",
    "  --p-trunc-len-f 240 \\\n",
    "  --p-trunc-len-r 248 \\\n",
    "  --o-table table-dada2_2126_240248.qza \\\n",
    "  --o-representative-sequences rep-seqs-dada2_2126_240248.qza \\\n",
    "  --o-denoising-stats stats-dada2_2126_240248.qza \\\n",
    "  --p-n-threads 0"
   ]
  },
  {
   "cell_type": "code",
   "execution_count": 4,
   "id": "f9ca9e66-f7c1-4429-95f3-0b9645835d1e",
   "metadata": {},
   "outputs": [
    {
     "name": "stdout",
     "output_type": "stream",
     "text": [
      "/home/c00cjz00wsi/class/qiime2/output\n",
      "\u001b[32mSaved Visualization to: table-dada2_2126_240248.qzv\u001b[0m\n",
      "\u001b[0m\u001b[32mSaved Visualization to: rep-seqs-dada2_2126_240248.qzv\u001b[0m\n",
      "\u001b[0m\u001b[32mSaved Visualization to: stats-dada2_2126_240248.qzv\u001b[0m\n",
      "\u001b[0m"
     ]
    }
   ],
   "source": [
    "%cd ~/class/qiime2/output\n",
    "!qiime feature-table summarize \\\n",
    "  --i-table table-dada2_2126_240248.qza \\\n",
    "  --o-visualization table-dada2_2126_240248.qzv \\\n",
    "  --m-sample-metadata-file ../fastq/sample-metadata.tsv\n",
    "!qiime feature-table tabulate-seqs \\\n",
    "  --i-data rep-seqs-dada2_2126_240248.qza \\\n",
    "  --o-visualization rep-seqs-dada2_2126_240248.qzv\n",
    "!qiime metadata tabulate \\\n",
    "  --m-input-file stats-dada2_2126_240248.qza \\\n",
    "  --o-visualization stats-dada2_2126_240248.qzv"
   ]
  },
  {
   "cell_type": "code",
   "execution_count": 3,
   "id": "4ce688ce-eb09-492b-b6c2-379f8f61acd3",
   "metadata": {},
   "outputs": [
    {
     "name": "stdout",
     "output_type": "stream",
     "text": [
      "/home/c00cjz00wsi/class/qiime2/output\n",
      "\u001b[32mSaved FeatureTable[Frequency] to: table-dada2_1721_240248.qza\u001b[0m\n",
      "\u001b[32mSaved FeatureData[Sequence] to: rep-seqs-dada2_1721_240248.qza\u001b[0m\n",
      "\u001b[32mSaved SampleData[DADA2Stats] to: stats-dada2_1721_240248.qza\u001b[0m\n",
      "\u001b[0m"
     ]
    }
   ],
   "source": [
    "%cd ~/class/qiime2/output\n",
    "!qiime dada2 denoise-paired \\\n",
    "  --i-demultiplexed-seqs demux.qza \\\n",
    "  --p-trim-left-f 17 \\\n",
    "  --p-trim-left-r 21 \\\n",
    "  --p-trunc-len-f 240 \\\n",
    "  --p-trunc-len-r 248 \\\n",
    "  --o-table table-dada2_1721_240248.qza \\\n",
    "  --o-representative-sequences rep-seqs-dada2_1721_240248.qza \\\n",
    "  --o-denoising-stats stats-dada2_1721_240248.qza \\\n",
    "  --p-n-threads 0"
   ]
  },
  {
   "cell_type": "code",
   "execution_count": 4,
   "id": "b0b6916e-15da-4965-8449-29043f236f4c",
   "metadata": {},
   "outputs": [
    {
     "name": "stdout",
     "output_type": "stream",
     "text": [
      "/home/c00cjz00wsi/class/qiime2/output\n",
      "\u001b[32mSaved Visualization to: table-dada2_1721_240248.qzv\u001b[0m\n",
      "\u001b[0m\u001b[32mSaved Visualization to: rep-seqs-dada2_1721_240248.qzv\u001b[0m\n",
      "\u001b[0m\u001b[32mSaved Visualization to: stats-dada2_1721_240248.qzv\u001b[0m\n",
      "\u001b[0m"
     ]
    }
   ],
   "source": [
    "%cd ~/class/qiime2/output\n",
    "!qiime feature-table summarize \\\n",
    "  --i-table table-dada2_1721_240248.qza \\\n",
    "  --o-visualization table-dada2_1721_240248.qzv \\\n",
    "  --m-sample-metadata-file ../fastq/sample-metadata.tsv\n",
    "!qiime feature-table tabulate-seqs \\\n",
    "  --i-data rep-seqs-dada2_1721_240248.qza \\\n",
    "  --o-visualization rep-seqs-dada2_1721_240248.qzv\n",
    "!qiime metadata tabulate \\\n",
    "  --m-input-file stats-dada2_1721_240248.qza \\\n",
    "  --o-visualization stats-dada2_1721_240248.qzv"
   ]
  },
  {
   "cell_type": "code",
   "execution_count": null,
   "id": "c2fece67-756b-47f0-84b3-5b120404adf9",
   "metadata": {},
   "outputs": [],
   "source": []
  }
 ],
 "metadata": {
  "kernelspec": {
   "display_name": "Image_qiime2_2023.2",
   "language": "python",
   "name": "image_qiime2_2023.2"
  },
  "language_info": {
   "codemirror_mode": {
    "name": "ipython",
    "version": 3
   },
   "file_extension": ".py",
   "mimetype": "text/x-python",
   "name": "python",
   "nbconvert_exporter": "python",
   "pygments_lexer": "ipython3",
   "version": "3.8.15"
  }
 },
 "nbformat": 4,
 "nbformat_minor": 5
}
