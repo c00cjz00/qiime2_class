{
 "cells": [
  {
   "cell_type": "code",
   "execution_count": 2,
   "id": "a4d7389c-c1a9-49bf-a469-d75dd2e893d7",
   "metadata": {},
   "outputs": [
    {
     "name": "stdout",
     "output_type": "stream",
     "text": [
      "/work/c00cjz00wsi/my_container/.package_qiime2_2023.2.sif/envs/qiime2_2023.2.sif\n",
      "/work/c00cjz00wsi/my_container/.package_qiime2_2023.2.sif/envs/qiime2_2023.2.sif/bin:/opt/conda/envs/qiime2-2023.2/bin:/opt/conda/bin:/usr/local/sbin:/usr/local/bin:/usr/sbin:/usr/bin:/sbin:/bin\n",
      "['/work/c00cjz00wsi/my_container/.package_qiime2_2023.2.sif/envs/qiime2_2023.2.sif/lib/python3.8/site-packages', '/opt/conda/envs/qiime2-2023.2/lib/python3.8/site-packages', '/home/c00cjz00wsi/class/qiime2', '/opt/conda/envs/qiime2-2023.2/lib/python38.zip', '/opt/conda/envs/qiime2-2023.2/lib/python3.8', '/opt/conda/envs/qiime2-2023.2/lib/python3.8/lib-dynload', '']\n"
     ]
    }
   ],
   "source": [
    "# 此映像檔套件位置\n",
    "import os, sys, sysconfig\n",
    "site_packages_path=(sysconfig.get_paths()[\"purelib\"])\n",
    "dirname=os.path.dirname(site_packages_path)\n",
    "python_basename=os.path.basename(dirname)\n",
    "# 更換PIP安裝位置\n",
    "if \"SINGULARITY_NAME\" in os.environ:\n",
    "  #kernel_name = os.path.basename(sys.executable.replace(\"/bin/python\",\"\"))\n",
    "  kernel_name = os.environ['SINGULARITY_NAME']\n",
    "  #os.environ['PYTHONUSERBASE']=os.environ['HOME']+'/.slurm_jupyter/pip_'+kernel_name\n",
    "  os.environ['PYTHONUSERBASE']='/work/'+os.path.basename(os.environ['HOME'])+'/my_container/.package_'+kernel_name+'/envs/'+kernel_name\n",
    "# 新增 Binarry 位置\n",
    "Add_Binarry_Path=os.environ['PYTHONUSERBASE']+'/bin'\n",
    "os.environ['PATH']=Add_Binarry_Path+\":\"+os.environ['PATH']\n",
    "# 更換library位置\n",
    "sys_path_add=os.environ['PYTHONUSERBASE']+'/lib/'+python_basename+'/site-packages'\n",
    "if sys_path_add in sys.path:\n",
    "  print(\"not add\")\n",
    "else:\n",
    "  sys.path.insert(0, sys_path_add)\n",
    "# 更換排序\n",
    "sys.path = sorted(sys.path, key=lambda x: x.startswith(site_packages_path), reverse=True)\n",
    "sys.path = sorted(sys.path, key=lambda x: x.startswith(sys_path_add), reverse=True)\n",
    "\n",
    "os.environ['XDG_CONFIG_HOME']=os.environ['HOME']\n",
    "# 印出結果\n",
    "print(os.environ['PYTHONUSERBASE'])\n",
    "print(os.environ['PATH'])\n",
    "print(sys.path)"
   ]
  },
  {
   "cell_type": "code",
   "execution_count": 2,
   "id": "44a55532-4338-4853-bfaa-b643e84b73e5",
   "metadata": {},
   "outputs": [
    {
     "name": "stdout",
     "output_type": "stream",
     "text": [
      "/home/c00cjz00wsi/class/qiime2/output\n",
      "--2023-04-17 22:39:56--  https://data.qiime2.org/2023.2/common/gg-13-8-99-515-806-nb-classifier.qza\n",
      "Resolving lgn304-v304 (lgn304-v304)... 172.17.26.4\n",
      "Connecting to lgn304-v304 (lgn304-v304)|172.17.26.4|:53128... connected.\n",
      "Proxy request sent, awaiting response... 302 FOUND\n",
      "Location: https://s3-us-west-2.amazonaws.com/qiime2-data/2023.2/common/gg-13-8-99-515-806-nb-classifier.qza [following]\n",
      "--2023-04-17 22:39:57--  https://s3-us-west-2.amazonaws.com/qiime2-data/2023.2/common/gg-13-8-99-515-806-nb-classifier.qza\n",
      "Connecting to lgn304-v304 (lgn304-v304)|172.17.26.4|:53128... connected.\n",
      "Proxy request sent, awaiting response... 200 OK\n",
      "Length: 28289645 (27M) [binary/octet-stream]\n",
      "Saving to: ‘gg-13-8-99-515-806-nb-classifier.qza’\n",
      "\n",
      "gg-13-8-99-515-806- 100%[===================>]  26.98M  13.4MB/s    in 2.0s    \n",
      "\n",
      "2023-04-17 22:40:00 (13.4 MB/s) - ‘gg-13-8-99-515-806-nb-classifier.qza’ saved [28289645/28289645]\n",
      "\n",
      "--2023-04-17 22:40:00--  https://data.qiime2.org/2023.2/common/silva-138-99-515-806-nb-classifier.qza\n",
      "Resolving lgn304-v304 (lgn304-v304)... 172.17.26.4\n",
      "Connecting to lgn304-v304 (lgn304-v304)|172.17.26.4|:53128... connected.\n",
      "Proxy request sent, awaiting response... 302 FOUND\n",
      "Location: https://s3-us-west-2.amazonaws.com/qiime2-data/2023.2/common/silva-138-99-515-806-nb-classifier.qza [following]\n",
      "--2023-04-17 22:40:00--  https://s3-us-west-2.amazonaws.com/qiime2-data/2023.2/common/silva-138-99-515-806-nb-classifier.qza\n",
      "Connecting to lgn304-v304 (lgn304-v304)|172.17.26.4|:53128... connected.\n",
      "Proxy request sent, awaiting response... 200 OK\n",
      "Length: 148294965 (141M) [binary/octet-stream]\n",
      "Saving to: ‘silva-138-99-515-806-nb-classifier.qza’\n",
      "\n",
      "silva-138-99-515-80 100%[===================>] 141.42M  24.7MB/s    in 6.8s    \n",
      "\n",
      "2023-04-17 22:40:08 (20.7 MB/s) - ‘silva-138-99-515-806-nb-classifier.qza’ saved [148294965/148294965]\n",
      "\n"
     ]
    }
   ],
   "source": [
    "%cd ~/class/qiime2/output\n",
    "!wget \\\n",
    "  -O 'gg-13-8-99-515-806-nb-classifier.qza' \\\n",
    "  'https://data.qiime2.org/2023.2/common/gg-13-8-99-515-806-nb-classifier.qza'\n",
    "!wget \\\n",
    "  -O 'silva-138-99-515-806-nb-classifier.qza' \\\n",
    "  'https://data.qiime2.org/2023.2/common/silva-138-99-515-806-nb-classifier.qza'"
   ]
  },
  {
   "cell_type": "code",
   "execution_count": 4,
   "id": "9af6694a-2a62-43a0-85f3-4a713862d32b",
   "metadata": {},
   "outputs": [
    {
     "name": "stdout",
     "output_type": "stream",
     "text": [
      "/home/c00cjz00wsi/class/qiime2/output\n",
      "\u001b[32mSaved FeatureData[Taxonomy] to: taxonomy.qza\u001b[0m\n",
      "\u001b[0m"
     ]
    }
   ],
   "source": [
    "%cd ~/class/qiime2/output\n",
    "!qiime feature-classifier classify-sklearn \\\n",
    "  --i-classifier silva-138-99-515-806-nb-classifier.qza \\\n",
    "  --i-reads rep-seqs-dada2.qza \\\n",
    "  --o-classification taxonomy.qza \\\n",
    "  --p-n-jobs 24"
   ]
  },
  {
   "cell_type": "code",
   "execution_count": 5,
   "id": "0af965d4-c99e-4020-84c5-0e9f22cc261e",
   "metadata": {},
   "outputs": [
    {
     "name": "stdout",
     "output_type": "stream",
     "text": [
      "/home/c00cjz00wsi/class/qiime2/output\n",
      "\u001b[32mSaved Visualization to: taxonomy.qzv\u001b[0m\n",
      "\u001b[0m"
     ]
    }
   ],
   "source": [
    "%cd ~/class/qiime2/output\n",
    "!qiime metadata tabulate \\\n",
    "  --m-input-file taxonomy.qza \\\n",
    "  --o-visualization taxonomy.qzv"
   ]
  },
  {
   "cell_type": "code",
   "execution_count": 4,
   "id": "2eceab28-1458-4c98-94a4-d9ea314eb828",
   "metadata": {},
   "outputs": [
    {
     "name": "stdout",
     "output_type": "stream",
     "text": [
      "/home/c00cjz00wsi/class/qiime2/output\n",
      "\u001b[32mSaved Visualization to: taxa-bar-plots.qzv\u001b[0m\n",
      "\u001b[0m"
     ]
    }
   ],
   "source": [
    "%cd ~/class/qiime2/output\n",
    "!qiime taxa barplot \\\n",
    "  --i-table table-dada2.qza \\\n",
    "  --i-taxonomy taxonomy.qza \\\n",
    "  --m-metadata-file ../sample-metadata.tsv \\\n",
    "  --o-visualization taxa-bar-plots.qzv"
   ]
  },
  {
   "cell_type": "code",
   "execution_count": null,
   "id": "27bf6dd8-a3a7-4a84-bfac-86ecdb4c4792",
   "metadata": {},
   "outputs": [],
   "source": []
  }
 ],
 "metadata": {
  "kernelspec": {
   "display_name": "Image_qiime2_2023.2",
   "language": "python",
   "name": "image_qiime2_2023.2"
  },
  "language_info": {
   "codemirror_mode": {
    "name": "ipython",
    "version": 3
   },
   "file_extension": ".py",
   "mimetype": "text/x-python",
   "name": "python",
   "nbconvert_exporter": "python",
   "pygments_lexer": "ipython3",
   "version": "3.8.15"
  }
 },
 "nbformat": 4,
 "nbformat_minor": 5
}
