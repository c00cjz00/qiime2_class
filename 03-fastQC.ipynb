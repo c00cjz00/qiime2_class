{
 "cells": [
  {
   "cell_type": "code",
   "execution_count": null,
   "id": "4b273b3f-f0aa-4f02-a1b8-456c555cbb31",
   "metadata": {},
   "outputs": [],
   "source": [
    "%%bash\n",
    "rm -rf ~/src/FastQC\n",
    "mkdir -p ~/src\n",
    "mkdir -p ~/bin\n",
    "cd ~/src\n",
    "curl -O https://www.bioinformatics.babraham.ac.uk/projects/fastqc/fastqc_v0.12.1.zip\n",
    "unzip fastqc_v0.12.1.zip\n",
    "\n",
    "# Link the fastqc executable to the ~/bin folder that\n",
    "# you have already added to the path.\n",
    "ln -sf ~/src/FastQC/fastqc ~/bin/fastqc\n",
    "\n",
    "# Due to what seems a packaging error\n",
    "# the executable flag on the fastqc program is not set.\n",
    "# We need to set it ourselves.\n",
    "chmod +x ~/bin/fastqc"
   ]
  },
  {
   "cell_type": "code",
   "execution_count": null,
   "id": "2b543e02-c3a6-42f8-a7fd-5eba2a03fb03",
   "metadata": {},
   "outputs": [],
   "source": [
    "%cd ~/class/qiime2\n",
    "!mkdir fastqc_out\n",
    "!~/bin/fastqc -t 8 fastq/*.fastq.gz -o fastqc_out"
   ]
  },
  {
   "cell_type": "code",
   "execution_count": null,
   "id": "a5f1c29b-3a21-4e54-9851-5c7ccff5af06",
   "metadata": {},
   "outputs": [],
   "source": []
  }
 ],
 "metadata": {
  "kernelspec": {
   "display_name": "SRA_toolkit",
   "language": "python",
   "name": "conda_sra_toolkit"
  },
  "language_info": {
   "codemirror_mode": {
    "name": "ipython",
    "version": 3
   },
   "file_extension": ".py",
   "mimetype": "text/x-python",
   "name": "python",
   "nbconvert_exporter": "python",
   "pygments_lexer": "ipython3",
   "version": "3.8.16"
  }
 },
 "nbformat": 4,
 "nbformat_minor": 5
}
