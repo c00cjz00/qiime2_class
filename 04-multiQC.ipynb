{
 "cells": [
  {
   "cell_type": "code",
   "execution_count": null,
   "id": "7fe974df-2cc8-4e74-b405-2a3fcd9fa258",
   "metadata": {},
   "outputs": [],
   "source": [
    "# LIBRARY\n",
    "import os, sys, sysconfig\n",
    "# 套件讀取位置\n",
    "site_packages_path=(sysconfig.get_paths()[\"purelib\"])\n",
    "# 新增 PATH 位置\n",
    "BIN_PATH=os.path.dirname(sys.executable)\n",
    "os.environ['PYTHONUSERBASE']=os.path.dirname(BIN_PATH)\n",
    "os.environ['PATH']=BIN_PATH+\":\"+os.environ['PATH']\n",
    "# 更換套件讀取排序\n",
    "sys.path = sorted(sys.path, key=lambda x: x.startswith(site_packages_path), reverse=True)\n",
    "# 印出結果\n",
    "print(os.environ['PYTHONUSERBASE'])\n",
    "print(os.environ['PATH'])\n",
    "print(sys.path)"
   ]
  },
  {
   "cell_type": "code",
   "execution_count": null,
   "id": "358f96be-7d4c-48c7-ae91-81cda5eb845b",
   "metadata": {},
   "outputs": [],
   "source": [
    "pip install multiqc  # Install"
   ]
  },
  {
   "cell_type": "code",
   "execution_count": null,
   "id": "9f3c1d6a-1120-4791-ad4d-0beab71804ba",
   "metadata": {},
   "outputs": [],
   "source": [
    "%cd ~/class/qiime2/fastqc_out\n",
    "!multiqc ."
   ]
  },
  {
   "cell_type": "code",
   "execution_count": null,
   "id": "a5f1c29b-3a21-4e54-9851-5c7ccff5af06",
   "metadata": {},
   "outputs": [],
   "source": []
  }
 ],
 "metadata": {
  "kernelspec": {
   "display_name": "SRA_toolkit",
   "language": "python",
   "name": "conda_sra_toolkit"
  },
  "language_info": {
   "codemirror_mode": {
    "name": "ipython",
    "version": 3
   },
   "file_extension": ".py",
   "mimetype": "text/x-python",
   "name": "python",
   "nbconvert_exporter": "python",
   "pygments_lexer": "ipython3",
   "version": "3.8.16"
  }
 },
 "nbformat": 4,
 "nbformat_minor": 5
}
