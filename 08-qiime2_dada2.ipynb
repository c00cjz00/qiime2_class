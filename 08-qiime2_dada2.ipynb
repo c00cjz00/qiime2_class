{
 "cells": [
  {
   "cell_type": "code",
   "execution_count": 1,
   "id": "a4d7389c-c1a9-49bf-a469-d75dd2e893d7",
   "metadata": {},
   "outputs": [],
   "source": [
    "# 此映像檔套件位置\n",
    "import os, sys, sysconfig\n",
    "site_packages_path=(sysconfig.get_paths()[\"purelib\"])\n",
    "dirname=os.path.dirname(site_packages_path)\n",
    "python_basename=os.path.basename(dirname)\n",
    "# 更換PIP安裝位置\n",
    "if \"SINGULARITY_NAME\" in os.environ:\n",
    "  #kernel_name = os.path.basename(sys.executable.replace(\"/bin/python\",\"\"))\n",
    "  kernel_name = os.environ['SINGULARITY_NAME']\n",
    "  #os.environ['PYTHONUSERBASE']=os.environ['HOME']+'/.slurm_jupyter/pip_'+kernel_name\n",
    "  os.environ['PYTHONUSERBASE']='/work/'+os.path.basename(os.environ['HOME'])+'/my_container/.package_'+kernel_name+'/envs/'+kernel_name\n",
    "# 新增 Binarry 位置\n",
    "Add_Binarry_Path=os.environ['PYTHONUSERBASE']+'/bin'\n",
    "os.environ['PATH']=Add_Binarry_Path+\":\"+os.environ['PATH']\n",
    "# 更換library位置\n",
    "sys_path_add=os.environ['PYTHONUSERBASE']+'/lib/'+python_basename+'/site-packages'\n",
    "if sys_path_add in sys.path:\n",
    "  print(\"not add\")\n",
    "else:\n",
    "  sys.path.insert(0, sys_path_add)\n",
    "# 更換排序\n",
    "sys.path = sorted(sys.path, key=lambda x: x.startswith(site_packages_path), reverse=True)\n",
    "sys.path = sorted(sys.path, key=lambda x: x.startswith(sys_path_add), reverse=True)\n",
    "\n",
    "os.environ['XDG_CONFIG_HOME']=os.environ['HOME']\n",
    "# 印出結果\n",
    "#print(os.environ['PYTHONUSERBASE'])\n",
    "#print(os.environ['PATH'])\n",
    "#print(sys.path)"
   ]
  },
  {
   "cell_type": "code",
   "execution_count": 2,
   "id": "ba9df8ee-7259-4c72-be8c-696f93fb1744",
   "metadata": {},
   "outputs": [
    {
     "name": "stdout",
     "output_type": "stream",
     "text": [
      "/home/c00cjz00wsi/class/qiime2/output\n",
      "\u001b[32mSaved FeatureTable[Frequency] to: table-dada2_250243.qza\u001b[0m\n",
      "\u001b[32mSaved FeatureData[Sequence] to: rep-seqs-dada2_250243.qza\u001b[0m\n",
      "\u001b[32mSaved SampleData[DADA2Stats] to: stats-dada2_250243.qza\u001b[0m\n",
      "\u001b[0m"
     ]
    }
   ],
   "source": [
    "%cd ~/class/qiime2/output\n",
    "!qiime dada2 denoise-paired \\\n",
    "  --i-demultiplexed-seqs demux.qza \\\n",
    "  --p-trim-left-f 21 \\\n",
    "  --p-trim-left-r 26 \\\n",
    "  --p-trunc-len-f 250 \\\n",
    "  --p-trunc-len-r 243 \\\n",
    "  --o-table table-dada2_2126_250243.qza \\\n",
    "  --o-representative-sequences rep-seqs-dada2_2126_250243.qza \\\n",
    "  --o-denoising-stats stats-dada2_2126_250243.qza \\\n",
    "  --p-n-threads 0"
   ]
  },
  {
   "cell_type": "code",
   "execution_count": 6,
   "id": "f6764c6b-3793-4332-9b2c-5a7bfbaefdd1",
   "metadata": {},
   "outputs": [
    {
     "name": "stdout",
     "output_type": "stream",
     "text": [
      "/home/c00cjz00wsi/class/qiime2/output\n",
      "\u001b[32mSaved Visualization to: table-dada2_250243.qzv\u001b[0m\n",
      "\u001b[0m\u001b[32mSaved Visualization to: rep-seqs-dada2_250243.qzv\u001b[0m\n",
      "\u001b[0m\u001b[32mSaved Visualization to: stats-dada2_250243.qzv\u001b[0m\n",
      "\u001b[0m"
     ]
    }
   ],
   "source": [
    "%cd ~/class/qiime2/output\n",
    "!qiime feature-table summarize \\\n",
    "  --i-table table-dada2_2126_250243.qza \\\n",
    "  --o-visualization table-dada2_2126_250243.qzv \\\n",
    "  --m-sample-metadata-file ../fastq/sample-metadata.tsv\n",
    "!qiime feature-table tabulate-seqs \\\n",
    "  --i-data rep-seqs-dada2_2126_250243.qza \\\n",
    "  --o-visualization rep-seqs-dada2_2126_250243.qzv\n",
    "!qiime metadata tabulate \\\n",
    "  --m-input-file stats-dada2_2126_250243.qza \\\n",
    "  --o-visualization stats-dada2_2126_250243.qzv"
   ]
  },
  {
   "cell_type": "code",
   "execution_count": 4,
   "id": "d6c4d129-7aa0-4b6d-a558-c5ebf092b875",
   "metadata": {},
   "outputs": [
    {
     "name": "stdout",
     "output_type": "stream",
     "text": [
      "/home/c00cjz00wsi/class/qiime2/output\n",
      "\u001b[32mSaved FeatureTable[Frequency] to: table-dada2_1010_250243.qza\u001b[0m\n",
      "\u001b[32mSaved FeatureData[Sequence] to: rep-seqs-dada2_1010_250243.qza\u001b[0m\n",
      "\u001b[32mSaved SampleData[DADA2Stats] to: stats-dada2_1010_250243.qza\u001b[0m\n",
      "\u001b[0m"
     ]
    }
   ],
   "source": [
    "%cd ~/class/qiime2/output\n",
    "!qiime dada2 denoise-paired \\\n",
    "  --i-demultiplexed-seqs demux.qza \\\n",
    "  --p-trim-left-f 10 \\\n",
    "  --p-trim-left-r 10 \\\n",
    "  --p-trunc-len-f 250 \\\n",
    "  --p-trunc-len-r 243 \\\n",
    "  --o-table table-dada2_1010_250243.qza \\\n",
    "  --o-representative-sequences rep-seqs-dada2_1010_250243.qza \\\n",
    "  --o-denoising-stats stats-dada2_1010_250243.qza \\\n",
    "  --p-n-threads 0"
   ]
  },
  {
   "cell_type": "code",
   "execution_count": 5,
   "id": "5d2be709-b500-43b2-adbd-87596a978185",
   "metadata": {},
   "outputs": [
    {
     "name": "stdout",
     "output_type": "stream",
     "text": [
      "/home/c00cjz00wsi/class/qiime2/output\n",
      "\u001b[32mSaved Visualization to: table-dada2_1010_250243.qzv\u001b[0m\n",
      "\u001b[0m\u001b[32mSaved Visualization to: rep-seqs-dada2_1010_250243.qzv\u001b[0m\n",
      "\u001b[0m\u001b[32mSaved Visualization to: stats-dada2_1010_250243.qzv\u001b[0m\n",
      "\u001b[0m"
     ]
    }
   ],
   "source": [
    "%cd ~/class/qiime2/output\n",
    "!qiime feature-table summarize \\\n",
    "  --i-table table-dada2_1010_250243.qza \\\n",
    "  --o-visualization table-dada2_1010_250243.qzv \\\n",
    "  --m-sample-metadata-file ../fastq/sample-metadata.tsv\n",
    "!qiime feature-table tabulate-seqs \\\n",
    "  --i-data rep-seqs-dada2_1010_250243.qza \\\n",
    "  --o-visualization rep-seqs-dada2_1010_250243.qzv\n",
    "!qiime metadata tabulate \\\n",
    "  --m-input-file stats-dada2_1010_250243.qza \\\n",
    "  --o-visualization stats-dada2_1010_250243.qzv"
   ]
  },
  {
   "cell_type": "code",
   "execution_count": null,
   "id": "7cc68fdc-ef00-4640-b22b-e3f2e87bcfae",
   "metadata": {},
   "outputs": [],
   "source": []
  }
 ],
 "metadata": {
  "kernelspec": {
   "display_name": "Image_qiime2_2023.2",
   "language": "python",
   "name": "image_qiime2_2023.2"
  },
  "language_info": {
   "codemirror_mode": {
    "name": "ipython",
    "version": 3
   },
   "file_extension": ".py",
   "mimetype": "text/x-python",
   "name": "python",
   "nbconvert_exporter": "python",
   "pygments_lexer": "ipython3",
   "version": "3.8.15"
  }
 },
 "nbformat": 4,
 "nbformat_minor": 5
}
