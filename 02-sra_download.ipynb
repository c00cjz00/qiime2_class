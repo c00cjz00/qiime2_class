{
 "cells": [
  {
   "cell_type": "code",
   "execution_count": null,
   "id": "c8548d3f-23d8-409b-ace9-6cfeff035de7",
   "metadata": {},
   "outputs": [],
   "source": [
    "# LIBRARY\n",
    "import os, sys, sysconfig\n",
    "# 套件讀取位置\n",
    "site_packages_path=(sysconfig.get_paths()[\"purelib\"])\n",
    "# 新增 PATH 位置\n",
    "BIN_PATH=os.path.dirname(sys.executable)\n",
    "os.environ['PYTHONUSERBASE']=os.path.dirname(BIN_PATH)\n",
    "os.environ['PATH']=BIN_PATH+\":\"+os.environ['PATH']\n",
    "# 更換套件讀取排序\n",
    "sys.path = sorted(sys.path, key=lambda x: x.startswith(site_packages_path), reverse=True)\n",
    "# 印出結果\n",
    "#print(os.environ['PYTHONUSERBASE'])\n",
    "#print(os.environ['PATH'])\n",
    "#print(sys.path)"
   ]
  },
  {
   "cell_type": "raw",
   "id": "34faebb2-aefc-471d-a0f8-159a8bfe02ac",
   "metadata": {},
   "source": [
    "## Edit ~/class/qiime2/sra.txt\n",
    "SRR6498087\n",
    "SRR6498088\n",
    "SRR6498089\n",
    "SRR6498090\n",
    "SRR6498091\n",
    "SRR6498092"
   ]
  },
  {
   "cell_type": "code",
   "execution_count": null,
   "id": "86250e53-7fd3-44ab-96d2-0c661ad019a0",
   "metadata": {},
   "outputs": [],
   "source": [
    "!mkdir -p ~/class/qiime2/fastq\n",
    "%cd  ~/class/qiime2/fastq\n",
    "import os\n",
    "os.environ['PATH']=\"/work/c00cjz002/package/sratoolkit.3.0.0-ubuntu64/bin:\"+os.environ['PATH']\n",
    "from bioinfokit.analys import fastq\n",
    "fastq.sra_bd(file='../sra.txt', t=4, other_opts='--split-files' )"
   ]
  },
  {
   "cell_type": "code",
   "execution_count": null,
   "id": "592f5c20-ed37-409f-8d5e-8a355cd09537",
   "metadata": {},
   "outputs": [],
   "source": [
    "%cd  ~/class/qiime2/fastq\n",
    "!gzip *.fastq"
   ]
  },
  {
   "cell_type": "code",
   "execution_count": null,
   "id": "1b062c2a-66a7-428f-8197-a405a873a5b9",
   "metadata": {},
   "outputs": [],
   "source": [
    "%cd  ~/class/qiime2/fastq\n",
    "!ls *_1.fastq.gz|awk -F \"_1\" '{print \"mv \"$_\" \"$1\"_S1_L001_R1_001.fastq.gz\"}'\n",
    "!ls *_2.fastq.gz|awk -F \"_2\" '{print \"mv \"$_\" \"$1\"_S1_L001_R2_001.fastq.gz\"}'"
   ]
  },
  {
   "cell_type": "code",
   "execution_count": null,
   "id": "d0aeefa0-77ac-4c22-a307-0c13b03fbe41",
   "metadata": {},
   "outputs": [],
   "source": [
    "%%bash\n",
    "cd  ~/class/qiime2/fastq\n",
    "mv SRR6498087_1.fastq.gz SRR6498087_S1_L001_R1_001.fastq.gz\n",
    "mv SRR6498088_1.fastq.gz SRR6498088_S1_L001_R1_001.fastq.gz\n",
    "mv SRR6498089_1.fastq.gz SRR6498089_S1_L001_R1_001.fastq.gz\n",
    "mv SRR6498090_1.fastq.gz SRR6498090_S1_L001_R1_001.fastq.gz\n",
    "mv SRR6498091_1.fastq.gz SRR6498091_S1_L001_R1_001.fastq.gz\n",
    "mv SRR6498092_1.fastq.gz SRR6498092_S1_L001_R1_001.fastq.gz\n",
    "mv SRR6498087_2.fastq.gz SRR6498087_S1_L001_R2_001.fastq.gz\n",
    "mv SRR6498088_2.fastq.gz SRR6498088_S1_L001_R2_001.fastq.gz\n",
    "mv SRR6498089_2.fastq.gz SRR6498089_S1_L001_R2_001.fastq.gz\n",
    "mv SRR6498090_2.fastq.gz SRR6498090_S1_L001_R2_001.fastq.gz\n",
    "mv SRR6498091_2.fastq.gz SRR6498091_S1_L001_R2_001.fastq.gz\n",
    "mv SRR6498092_2.fastq.gz SRR6498092_S1_L001_R2_001.fastq.gz"
   ]
  },
  {
   "cell_type": "code",
   "execution_count": null,
   "id": "c7a67045-62aa-4f75-83e8-2920571e2808",
   "metadata": {},
   "outputs": [],
   "source": []
  }
 ],
 "metadata": {
  "kernelspec": {
   "display_name": "SRA_toolkit",
   "language": "python",
   "name": "conda_sra_toolkit"
  },
  "language_info": {
   "codemirror_mode": {
    "name": "ipython",
    "version": 3
   },
   "file_extension": ".py",
   "mimetype": "text/x-python",
   "name": "python",
   "nbconvert_exporter": "python",
   "pygments_lexer": "ipython3",
   "version": "3.8.16"
  }
 },
 "nbformat": 4,
 "nbformat_minor": 5
}
