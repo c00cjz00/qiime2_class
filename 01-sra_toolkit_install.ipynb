{
 "cells": [
  {
   "cell_type": "code",
   "execution_count": null,
   "id": "07376e93-8409-47c8-a08c-922798311908",
   "metadata": {},
   "outputs": [],
   "source": [
    "# LIBRARY\n",
    "import os, sys, sysconfig\n",
    "# 套件讀取位置\n",
    "site_packages_path=(sysconfig.get_paths()[\"purelib\"])\n",
    "# 新增 PATH 位置\n",
    "BIN_PATH=os.path.dirname(sys.executable)\n",
    "os.environ['PYTHONUSERBASE']=os.path.dirname(BIN_PATH)\n",
    "os.environ['PATH']=BIN_PATH+\":\"+os.environ['PATH']\n",
    "# 更換套件讀取排序\n",
    "sys.path = sorted(sys.path, key=lambda x: x.startswith(site_packages_path), reverse=True)\n",
    "# 印出結果\n",
    "#print(os.environ['PYTHONUSERBASE'])\n",
    "#print(os.environ['PATH'])\n",
    "#print(sys.path)"
   ]
  },
  {
   "cell_type": "code",
   "execution_count": null,
   "id": "a49a90b4-0444-4177-b119-978780ba270a",
   "metadata": {},
   "outputs": [],
   "source": [
    "conda install -c bioconda bioinfokit -y"
   ]
  },
  {
   "cell_type": "code",
   "execution_count": null,
   "id": "a8c629f6-b7b3-45e6-966c-c0f11f6b6e5b",
   "metadata": {},
   "outputs": [],
   "source": [
    "pip install NumPy scikit-learn seaborn pandas matplotlib SciPy matplotlib_venn adjustText statsmodels tabulate textwrap3"
   ]
  },
  {
   "cell_type": "markdown",
   "id": "f8520cf3-f5df-48d5-9364-9926412634aa",
   "metadata": {},
   "source": [
    "### 打開terminal 輸入以下指令\n",
    "```\n",
    "export PATH=$PATH:/work/c00cjz002/package/sratoolkit.3.0.0-ubuntu64/bin\n",
    "vdb-config -i\n",
    "```\n",
    "上方指令會進入互動畫面, 按 T 進入 TOOLS，再按 P ，上下鍵選擇 current directory，再按 S 儲存，再按 o 代表 ok ，按兩次 Esc 即可離開。"
   ]
  },
  {
   "cell_type": "code",
   "execution_count": null,
   "id": "84a55584-e02b-426b-a3ce-84cb5bb6d081",
   "metadata": {},
   "outputs": [],
   "source": []
  }
 ],
 "metadata": {
  "kernelspec": {
   "display_name": "Python 3 (ipykernel)",
   "language": "python",
   "name": "python3"
  },
  "language_info": {
   "codemirror_mode": {
    "name": "ipython",
    "version": 3
   },
   "file_extension": ".py",
   "mimetype": "text/x-python",
   "name": "python",
   "nbconvert_exporter": "python",
   "pygments_lexer": "ipython3",
   "version": "3.8.15"
  }
 },
 "nbformat": 4,
 "nbformat_minor": 5
}
