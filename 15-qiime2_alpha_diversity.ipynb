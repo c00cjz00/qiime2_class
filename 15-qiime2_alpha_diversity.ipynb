{
 "cells": [
  {
   "cell_type": "code",
   "execution_count": 1,
   "id": "a4d7389c-c1a9-49bf-a469-d75dd2e893d7",
   "metadata": {},
   "outputs": [
    {
     "name": "stdout",
     "output_type": "stream",
     "text": [
      "/work/c00cjz00wsi/my_container/.package_qiime2_2023.2.sif/envs/qiime2_2023.2.sif\n",
      "/work/c00cjz00wsi/my_container/.package_qiime2_2023.2.sif/envs/qiime2_2023.2.sif/bin:/opt/conda/envs/qiime2-2023.2/bin:/opt/conda/bin:/usr/local/sbin:/usr/local/bin:/usr/sbin:/usr/bin:/sbin:/bin\n",
      "['/work/c00cjz00wsi/my_container/.package_qiime2_2023.2.sif/envs/qiime2_2023.2.sif/lib/python3.8/site-packages', '/opt/conda/envs/qiime2-2023.2/lib/python3.8/site-packages', '/home/c00cjz00wsi/class/qiime2', '/opt/conda/envs/qiime2-2023.2/lib/python38.zip', '/opt/conda/envs/qiime2-2023.2/lib/python3.8', '/opt/conda/envs/qiime2-2023.2/lib/python3.8/lib-dynload', '']\n"
     ]
    }
   ],
   "source": [
    "# 此映像檔套件位置\n",
    "import os, sys, sysconfig\n",
    "site_packages_path=(sysconfig.get_paths()[\"purelib\"])\n",
    "dirname=os.path.dirname(site_packages_path)\n",
    "python_basename=os.path.basename(dirname)\n",
    "# 更換PIP安裝位置\n",
    "if \"SINGULARITY_NAME\" in os.environ:\n",
    "  #kernel_name = os.path.basename(sys.executable.replace(\"/bin/python\",\"\"))\n",
    "  kernel_name = os.environ['SINGULARITY_NAME']\n",
    "  #os.environ['PYTHONUSERBASE']=os.environ['HOME']+'/.slurm_jupyter/pip_'+kernel_name\n",
    "  os.environ['PYTHONUSERBASE']='/work/'+os.path.basename(os.environ['HOME'])+'/my_container/.package_'+kernel_name+'/envs/'+kernel_name\n",
    "# 新增 Binarry 位置\n",
    "Add_Binarry_Path=os.environ['PYTHONUSERBASE']+'/bin'\n",
    "os.environ['PATH']=Add_Binarry_Path+\":\"+os.environ['PATH']\n",
    "# 更換library位置\n",
    "sys_path_add=os.environ['PYTHONUSERBASE']+'/lib/'+python_basename+'/site-packages'\n",
    "if sys_path_add in sys.path:\n",
    "  print(\"not add\")\n",
    "else:\n",
    "  sys.path.insert(0, sys_path_add)\n",
    "# 更換排序\n",
    "sys.path = sorted(sys.path, key=lambda x: x.startswith(site_packages_path), reverse=True)\n",
    "sys.path = sorted(sys.path, key=lambda x: x.startswith(sys_path_add), reverse=True)\n",
    "\n",
    "os.environ['XDG_CONFIG_HOME']=os.environ['HOME']\n",
    "# 印出結果\n",
    "print(os.environ['PYTHONUSERBASE'])\n",
    "print(os.environ['PATH'])\n",
    "print(sys.path)"
   ]
  },
  {
   "cell_type": "code",
   "execution_count": 4,
   "id": "5c5353fe-3c99-4322-962c-c48f68e790e8",
   "metadata": {},
   "outputs": [
    {
     "name": "stdout",
     "output_type": "stream",
     "text": [
      "/home/c00cjz00wsi/class/qiime2/output\n",
      "\u001b[32mSaved Visualization to: alpha-rarefaction.qzv\u001b[0m\n",
      "\u001b[0m"
     ]
    }
   ],
   "source": [
    "%cd ~/class/qiime2/output\n",
    "!qiime diversity alpha-rarefaction \\\n",
    "  --i-table table-dada2.qza \\\n",
    "  --i-phylogeny rooted-tree.qza \\\n",
    "  --p-max-depth 50131 \\\n",
    "  --m-metadata-file ../fastq/sample-metadata.tsv \\\n",
    "  --o-visualization alpha-rarefaction.qzv"
   ]
  },
  {
   "cell_type": "code",
   "execution_count": 5,
   "id": "5395c621-8f49-4f9a-9a86-df228c35dff0",
   "metadata": {},
   "outputs": [
    {
     "name": "stdout",
     "output_type": "stream",
     "text": [
      "/home/c00cjz00wsi/class/qiime2/output\n",
      "\u001b[32mSaved FeatureTable[Frequency] to: core-metrics-results/rarefied_table.qza\u001b[0m\n",
      "\u001b[32mSaved SampleData[AlphaDiversity] to: core-metrics-results/faith_pd_vector.qza\u001b[0m\n",
      "\u001b[32mSaved SampleData[AlphaDiversity] to: core-metrics-results/observed_features_vector.qza\u001b[0m\n",
      "\u001b[32mSaved SampleData[AlphaDiversity] to: core-metrics-results/shannon_vector.qza\u001b[0m\n",
      "\u001b[32mSaved SampleData[AlphaDiversity] to: core-metrics-results/evenness_vector.qza\u001b[0m\n",
      "\u001b[32mSaved DistanceMatrix to: core-metrics-results/unweighted_unifrac_distance_matrix.qza\u001b[0m\n",
      "\u001b[32mSaved DistanceMatrix to: core-metrics-results/weighted_unifrac_distance_matrix.qza\u001b[0m\n",
      "\u001b[32mSaved DistanceMatrix to: core-metrics-results/jaccard_distance_matrix.qza\u001b[0m\n",
      "\u001b[32mSaved DistanceMatrix to: core-metrics-results/bray_curtis_distance_matrix.qza\u001b[0m\n",
      "\u001b[32mSaved PCoAResults to: core-metrics-results/unweighted_unifrac_pcoa_results.qza\u001b[0m\n",
      "\u001b[32mSaved PCoAResults to: core-metrics-results/weighted_unifrac_pcoa_results.qza\u001b[0m\n",
      "\u001b[32mSaved PCoAResults to: core-metrics-results/jaccard_pcoa_results.qza\u001b[0m\n",
      "\u001b[32mSaved PCoAResults to: core-metrics-results/bray_curtis_pcoa_results.qza\u001b[0m\n",
      "\u001b[32mSaved Visualization to: core-metrics-results/unweighted_unifrac_emperor.qzv\u001b[0m\n",
      "\u001b[32mSaved Visualization to: core-metrics-results/weighted_unifrac_emperor.qzv\u001b[0m\n",
      "\u001b[32mSaved Visualization to: core-metrics-results/jaccard_emperor.qzv\u001b[0m\n",
      "\u001b[32mSaved Visualization to: core-metrics-results/bray_curtis_emperor.qzv\u001b[0m\n",
      "\u001b[0m"
     ]
    }
   ],
   "source": [
    "%cd ~/class/qiime2/output\n",
    "!qiime diversity core-metrics-phylogenetic \\\n",
    "  --i-phylogeny rooted-tree.qza \\\n",
    "  --i-table table-dada2.qza \\\n",
    "  --p-sampling-depth 19914 \\\n",
    "  --m-metadata-file ../fastq/sample-metadata.tsv \\\n",
    "  --output-dir core-metrics-results   "
   ]
  },
  {
   "cell_type": "code",
   "execution_count": 6,
   "id": "8425c368-1288-4ba7-86f4-58daff2ad067",
   "metadata": {},
   "outputs": [
    {
     "name": "stdout",
     "output_type": "stream",
     "text": [
      "/home/c00cjz00wsi/class/qiime2/output\n",
      "\u001b[32mSaved Visualization to: observed_features_vector.qzv\u001b[0m\n",
      "\u001b[0m"
     ]
    }
   ],
   "source": [
    "%cd ~/class/qiime2/output\n",
    "!qiime diversity alpha-group-significance \\\n",
    "  --i-alpha-diversity core-metrics-results/observed_features_vector.qza \\\n",
    "  --m-metadata-file ../fastq/sample-metadata.tsv \\\n",
    "  --o-visualization observed_features_vector.qzv"
   ]
  },
  {
   "cell_type": "code",
   "execution_count": null,
   "id": "46362c45-c3a9-419f-bb91-b1fc31698ca2",
   "metadata": {},
   "outputs": [],
   "source": []
  }
 ],
 "metadata": {
  "kernelspec": {
   "display_name": "Image_qiime2_2023.2",
   "language": "python",
   "name": "image_qiime2_2023.2"
  },
  "language_info": {
   "codemirror_mode": {
    "name": "ipython",
    "version": 3
   },
   "file_extension": ".py",
   "mimetype": "text/x-python",
   "name": "python",
   "nbconvert_exporter": "python",
   "pygments_lexer": "ipython3",
   "version": "3.8.15"
  }
 },
 "nbformat": 4,
 "nbformat_minor": 5
}
